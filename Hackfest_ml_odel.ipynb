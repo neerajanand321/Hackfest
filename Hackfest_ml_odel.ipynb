{
 "cells": [
  {
   "cell_type": "markdown",
   "metadata": {
    "papermill": {
     "duration": 0.038669,
     "end_time": "2022-05-06T16:35:38.324810",
     "exception": false,
     "start_time": "2022-05-06T16:35:38.286141",
     "status": "completed"
    },
    "tags": []
   },
   "source": [
    "# Data Loading"
   ]
  },
  {
   "cell_type": "code",
   "execution_count": 1,
   "metadata": {
    "_cell_guid": "b1076dfc-b9ad-4769-8c92-a6c4dae69d19",
    "_uuid": "8f2839f25d086af736a60e9eeb907d3b93b6e0e5",
    "execution": {
     "iopub.execute_input": "2022-05-06T16:35:38.401318Z",
     "iopub.status.busy": "2022-05-06T16:35:38.400504Z",
     "iopub.status.idle": "2022-05-06T16:35:39.229017Z",
     "shell.execute_reply": "2022-05-06T16:35:39.227849Z",
     "shell.execute_reply.started": "2022-05-06T16:05:31.100844Z"
    },
    "papermill": {
     "duration": 0.871286,
     "end_time": "2022-05-06T16:35:39.229162",
     "exception": false,
     "start_time": "2022-05-06T16:35:38.357876",
     "status": "completed"
    },
    "tags": []
   },
   "outputs": [],
   "source": [
    "import os\n",
    "os.environ['CUDA_VISIBLE_DEVICES'] = '0' # specify GPUs locally\n",
    "/\n",
    "import pandas as pd\n",
    "\n",
    "from matplotlib import pyplot as plt\n",
    "import seaborn as sns"
   ]
  },
  {
   "cell_type": "code",
   "execution_count": 2,
   "metadata": {
    "execution": {
     "iopub.execute_input": "2022-05-06T16:35:39.297301Z",
     "iopub.status.busy": "2022-05-06T16:35:39.296315Z",
     "iopub.status.idle": "2022-05-06T16:35:39.300424Z",
     "shell.execute_reply": "2022-05-06T16:35:39.299785Z",
     "shell.execute_reply.started": "2022-05-06T16:05:31.116195Z"
    },
    "papermill": {
     "duration": 0.039418,
     "end_time": "2022-05-06T16:35:39.300528",
     "exception": false,
     "start_time": "2022-05-06T16:35:39.261110",
     "status": "completed"
    },
    "tags": []
   },
   "outputs": [],
   "source": [
    "##train = pd.read_csv('../input/d/datasets/sriv2804/cyberlabav/train_DETg9GD/train.csv')\n",
    "##test = pd.read_csv('../input/d/datasets/sriv2804/cyberlabav/test_Bh8pGW3/test.csv')\n"
   ]
  },
  {
   "cell_type": "code",
   "execution_count": 3,
   "metadata": {
    "execution": {
     "iopub.execute_input": "2022-05-06T16:35:39.368255Z",
     "iopub.status.busy": "2022-05-06T16:35:39.367604Z",
     "iopub.status.idle": "2022-05-06T16:35:39.372466Z",
     "shell.execute_reply": "2022-05-06T16:35:39.371949Z",
     "shell.execute_reply.started": "2022-05-06T16:05:31.151822Z"
    },
    "papermill": {
     "duration": 0.040587,
     "end_time": "2022-05-06T16:35:39.372635",
     "exception": false,
     "start_time": "2022-05-06T16:35:39.332048",
     "status": "completed"
    },
    "tags": []
   },
   "outputs": [],
   "source": [
    "##train_casava = pd.read_csv('../input/cassava-leaf-disease-classification/train.csv')"
   ]
  },
  {
   "cell_type": "code",
   "execution_count": 4,
   "metadata": {
    "execution": {
     "iopub.execute_input": "2022-05-06T16:35:39.474657Z",
     "iopub.status.busy": "2022-05-06T16:35:39.473607Z",
     "iopub.status.idle": "2022-05-06T16:35:39.476336Z",
     "shell.execute_reply": "2022-05-06T16:35:39.477019Z",
     "shell.execute_reply.started": "2022-05-06T16:05:31.182043Z"
    },
    "papermill": {
     "duration": 0.070528,
     "end_time": "2022-05-06T16:35:39.477170",
     "exception": false,
     "start_time": "2022-05-06T16:35:39.406642",
     "status": "completed"
    },
    "tags": []
   },
   "outputs": [],
   "source": [
    "##train"
   ]
  },
  {
   "cell_type": "code",
   "execution_count": 5,
   "metadata": {
    "execution": {
     "iopub.execute_input": "2022-05-06T16:35:39.547201Z",
     "iopub.status.busy": "2022-05-06T16:35:39.546325Z",
     "iopub.status.idle": "2022-05-06T16:35:39.647233Z",
     "shell.execute_reply": "2022-05-06T16:35:39.646739Z",
     "shell.execute_reply.started": "2022-05-06T16:05:31.198011Z"
    },
    "papermill": {
     "duration": 0.13714,
     "end_time": "2022-05-06T16:35:39.647332",
     "exception": false,
     "start_time": "2022-05-06T16:35:39.510192",
     "status": "completed"
    },
    "tags": []
   },
   "outputs": [],
   "source": [
    "from sklearn.model_selection import train_test_split"
   ]
  },
  {
   "cell_type": "code",
   "execution_count": 6,
   "metadata": {
    "execution": {
     "iopub.execute_input": "2022-05-06T16:35:39.747768Z",
     "iopub.status.busy": "2022-05-06T16:35:39.747144Z",
     "iopub.status.idle": "2022-05-06T16:35:39.765885Z",
     "shell.execute_reply": "2022-05-06T16:35:39.765325Z",
     "shell.execute_reply.started": "2022-05-06T16:05:31.238669Z"
    },
    "papermill": {
     "duration": 0.056674,
     "end_time": "2022-05-06T16:35:39.765991",
     "exception": false,
     "start_time": "2022-05-06T16:35:39.709317",
     "status": "completed"
    },
    "tags": []
   },
   "outputs": [],
   "source": [
    "data=pd.read_csv('../input/heckfestt/target_id_path')"
   ]
  },
  {
   "cell_type": "code",
   "execution_count": 7,
   "metadata": {
    "execution": {
     "iopub.execute_input": "2022-05-06T16:35:39.852056Z",
     "iopub.status.busy": "2022-05-06T16:35:39.850996Z",
     "iopub.status.idle": "2022-05-06T16:35:39.861670Z",
     "shell.execute_reply": "2022-05-06T16:35:39.862229Z",
     "shell.execute_reply.started": "2022-05-06T16:05:31.27067Z"
    },
    "papermill": {
     "duration": 0.063243,
     "end_time": "2022-05-06T16:35:39.862368",
     "exception": false,
     "start_time": "2022-05-06T16:35:39.799125",
     "status": "completed"
    },
    "tags": []
   },
   "outputs": [
    {
     "data": {
      "text/html": [
       "<div>\n",
       "<style scoped>\n",
       "    .dataframe tbody tr th:only-of-type {\n",
       "        vertical-align: middle;\n",
       "    }\n",
       "\n",
       "    .dataframe tbody tr th {\n",
       "        vertical-align: top;\n",
       "    }\n",
       "\n",
       "    .dataframe thead th {\n",
       "        text-align: right;\n",
       "    }\n",
       "</style>\n",
       "<table border=\"1\" class=\"dataframe\">\n",
       "  <thead>\n",
       "    <tr style=\"text-align: right;\">\n",
       "      <th></th>\n",
       "      <th>tar</th>\n",
       "      <th>id</th>\n",
       "      <th>path</th>\n",
       "    </tr>\n",
       "  </thead>\n",
       "  <tbody>\n",
       "    <tr>\n",
       "      <th>0</th>\n",
       "      <td>5.0</td>\n",
       "      <td>20000943.0</td>\n",
       "      <td>/kaggle/input/heckfest/20000943.tif</td>\n",
       "    </tr>\n",
       "    <tr>\n",
       "      <th>1</th>\n",
       "      <td>3.0</td>\n",
       "      <td>10012150.0</td>\n",
       "      <td>/kaggle/input/heckfest/10012150.tif</td>\n",
       "    </tr>\n",
       "    <tr>\n",
       "      <th>2</th>\n",
       "      <td>2.0</td>\n",
       "      <td>10001662.0</td>\n",
       "      <td>/kaggle/input/heckfest/10001662.tif</td>\n",
       "    </tr>\n",
       "    <tr>\n",
       "      <th>3</th>\n",
       "      <td>3.0</td>\n",
       "      <td>10005404.0</td>\n",
       "      <td>/kaggle/input/heckfest/10005404.tif</td>\n",
       "    </tr>\n",
       "    <tr>\n",
       "      <th>4</th>\n",
       "      <td>4.0</td>\n",
       "      <td>20003286.0</td>\n",
       "      <td>/kaggle/input/heckfest/20003286.tif</td>\n",
       "    </tr>\n",
       "    <tr>\n",
       "      <th>...</th>\n",
       "      <td>...</td>\n",
       "      <td>...</td>\n",
       "      <td>...</td>\n",
       "    </tr>\n",
       "    <tr>\n",
       "      <th>3093</th>\n",
       "      <td>5.0</td>\n",
       "      <td>20005413.0</td>\n",
       "      <td>/kaggle/input/heckfest/20005413.tif</td>\n",
       "    </tr>\n",
       "    <tr>\n",
       "      <th>3094</th>\n",
       "      <td>5.0</td>\n",
       "      <td>20006668.0</td>\n",
       "      <td>/kaggle/input/heckfest/20006668.tif</td>\n",
       "    </tr>\n",
       "    <tr>\n",
       "      <th>3095</th>\n",
       "      <td>2.0</td>\n",
       "      <td>20002368.0</td>\n",
       "      <td>/kaggle/input/heckfest/20002368.tif</td>\n",
       "    </tr>\n",
       "    <tr>\n",
       "      <th>3096</th>\n",
       "      <td>4.0</td>\n",
       "      <td>20002195.0</td>\n",
       "      <td>/kaggle/input/heckfest/20002195.tif</td>\n",
       "    </tr>\n",
       "    <tr>\n",
       "      <th>3097</th>\n",
       "      <td>3.0</td>\n",
       "      <td>20000782.0</td>\n",
       "      <td>/kaggle/input/heckfest/20000782.tif</td>\n",
       "    </tr>\n",
       "  </tbody>\n",
       "</table>\n",
       "<p>3098 rows × 3 columns</p>\n",
       "</div>"
      ],
      "text/plain": [
       "      tar          id                                 path\n",
       "0     5.0  20000943.0  /kaggle/input/heckfest/20000943.tif\n",
       "1     3.0  10012150.0  /kaggle/input/heckfest/10012150.tif\n",
       "2     2.0  10001662.0  /kaggle/input/heckfest/10001662.tif\n",
       "3     3.0  10005404.0  /kaggle/input/heckfest/10005404.tif\n",
       "4     4.0  20003286.0  /kaggle/input/heckfest/20003286.tif\n",
       "...   ...         ...                                  ...\n",
       "3093  5.0  20005413.0  /kaggle/input/heckfest/20005413.tif\n",
       "3094  5.0  20006668.0  /kaggle/input/heckfest/20006668.tif\n",
       "3095  2.0  20002368.0  /kaggle/input/heckfest/20002368.tif\n",
       "3096  4.0  20002195.0  /kaggle/input/heckfest/20002195.tif\n",
       "3097  3.0  20000782.0  /kaggle/input/heckfest/20000782.tif\n",
       "\n",
       "[3098 rows x 3 columns]"
      ]
     },
     "execution_count": 7,
     "metadata": {},
     "output_type": "execute_result"
    }
   ],
   "source": [
    "data"
   ]
  },
  {
   "cell_type": "code",
   "execution_count": 8,
   "metadata": {
    "execution": {
     "iopub.execute_input": "2022-05-06T16:35:39.933765Z",
     "iopub.status.busy": "2022-05-06T16:35:39.932511Z",
     "iopub.status.idle": "2022-05-06T16:35:39.937508Z",
     "shell.execute_reply": "2022-05-06T16:35:39.936994Z",
     "shell.execute_reply.started": "2022-05-06T16:05:31.298291Z"
    },
    "papermill": {
     "duration": 0.042852,
     "end_time": "2022-05-06T16:35:39.937641",
     "exception": false,
     "start_time": "2022-05-06T16:35:39.894789",
     "status": "completed"
    },
    "tags": []
   },
   "outputs": [
    {
     "data": {
      "text/plain": [
       "5.0"
      ]
     },
     "execution_count": 8,
     "metadata": {},
     "output_type": "execute_result"
    }
   ],
   "source": [
    "data['tar'][0]"
   ]
  },
  {
   "cell_type": "code",
   "execution_count": 9,
   "metadata": {
    "execution": {
     "iopub.execute_input": "2022-05-06T16:35:40.008655Z",
     "iopub.status.busy": "2022-05-06T16:35:40.007799Z",
     "iopub.status.idle": "2022-05-06T16:35:40.011755Z",
     "shell.execute_reply": "2022-05-06T16:35:40.011011Z",
     "shell.execute_reply.started": "2022-05-06T16:05:31.308528Z"
    },
    "papermill": {
     "duration": 0.041037,
     "end_time": "2022-05-06T16:35:40.011857",
     "exception": false,
     "start_time": "2022-05-06T16:35:39.970820",
     "status": "completed"
    },
    "tags": []
   },
   "outputs": [],
   "source": [
    "import warnings\n",
    "warnings.filterwarnings('ignore')"
   ]
  },
  {
   "cell_type": "code",
   "execution_count": 10,
   "metadata": {
    "execution": {
     "iopub.execute_input": "2022-05-06T16:35:40.084350Z",
     "iopub.status.busy": "2022-05-06T16:35:40.083203Z",
     "iopub.status.idle": "2022-05-06T16:35:40.443232Z",
     "shell.execute_reply": "2022-05-06T16:35:40.442648Z",
     "shell.execute_reply.started": "2022-05-06T16:05:31.348293Z"
    },
    "papermill": {
     "duration": 0.398225,
     "end_time": "2022-05-06T16:35:40.443344",
     "exception": false,
     "start_time": "2022-05-06T16:35:40.045119",
     "status": "completed"
    },
    "tags": []
   },
   "outputs": [],
   "source": [
    "for i in range(len(data)):\n",
    "    if(data['tar'][i]>3):\n",
    "        data['tar'][i] =  0\n",
    "    else:\n",
    "        data['tar'][i] = 1"
   ]
  },
  {
   "cell_type": "code",
   "execution_count": 11,
   "metadata": {
    "execution": {
     "iopub.execute_input": "2022-05-06T16:35:40.521280Z",
     "iopub.status.busy": "2022-05-06T16:35:40.520226Z",
     "iopub.status.idle": "2022-05-06T16:35:40.525172Z",
     "shell.execute_reply": "2022-05-06T16:35:40.524649Z",
     "shell.execute_reply.started": "2022-05-06T16:05:31.764264Z"
    },
    "papermill": {
     "duration": 0.048404,
     "end_time": "2022-05-06T16:35:40.525282",
     "exception": false,
     "start_time": "2022-05-06T16:35:40.476878",
     "status": "completed"
    },
    "tags": []
   },
   "outputs": [
    {
     "data": {
      "text/plain": [
       "0.0    2355\n",
       "1.0     743\n",
       "Name: tar, dtype: int64"
      ]
     },
     "execution_count": 11,
     "metadata": {},
     "output_type": "execute_result"
    }
   ],
   "source": [
    "data['tar'].value_counts()"
   ]
  },
  {
   "cell_type": "code",
   "execution_count": 12,
   "metadata": {
    "execution": {
     "iopub.execute_input": "2022-05-06T16:35:40.597104Z",
     "iopub.status.busy": "2022-05-06T16:35:40.596359Z",
     "iopub.status.idle": "2022-05-06T16:35:42.349598Z",
     "shell.execute_reply": "2022-05-06T16:35:42.348596Z",
     "shell.execute_reply.started": "2022-05-06T16:05:31.784692Z"
    },
    "papermill": {
     "duration": 1.791077,
     "end_time": "2022-05-06T16:35:42.349722",
     "exception": false,
     "start_time": "2022-05-06T16:35:40.558645",
     "status": "completed"
    },
    "tags": []
   },
   "outputs": [
    {
     "data": {
      "text/plain": [
       "<matplotlib.image.AxesImage at 0x7f30be03d9d0>"
      ]
     },
     "execution_count": 12,
     "metadata": {},
     "output_type": "execute_result"
    },
    {
     "data": {
      "image/png": "[encoded data removed]",
      "text/plain": [
       "<Figure size 432x288 with 1 Axes>"
      ]
     },
     "metadata": {
      "needs_background": "light"
     },
     "output_type": "display_data"
    }
   ],
   "source": [
    "import cv2\n",
    "from matplotlib import pyplot as plt\n",
    "plt.imshow(cv2.imread(data['path'][0]))"
   ]
  },
  {
   "cell_type": "code",
   "execution_count": 13,
   "metadata": {
    "execution": {
     "iopub.execute_input": "2022-05-06T16:35:42.426153Z",
     "iopub.status.busy": "2022-05-06T16:35:42.425440Z",
     "iopub.status.idle": "2022-05-06T16:35:42.429712Z",
     "shell.execute_reply": "2022-05-06T16:35:42.429121Z",
     "shell.execute_reply.started": "2022-05-06T16:05:33.240078Z"
    },
    "papermill": {
     "duration": 0.044419,
     "end_time": "2022-05-06T16:35:42.429817",
     "exception": false,
     "start_time": "2022-05-06T16:35:42.385398",
     "status": "completed"
    },
    "tags": []
   },
   "outputs": [],
   "source": [
    "train=data[:2900]\n",
    "test=data[2901:]"
   ]
  },
  {
   "cell_type": "code",
   "execution_count": 14,
   "metadata": {
    "execution": {
     "iopub.execute_input": "2022-05-06T16:35:42.514377Z",
     "iopub.status.busy": "2022-05-06T16:35:42.513414Z",
     "iopub.status.idle": "2022-05-06T16:35:42.520133Z",
     "shell.execute_reply": "2022-05-06T16:35:42.519653Z",
     "shell.execute_reply.started": "2022-05-06T16:05:33.253851Z"
    },
    "papermill": {
     "duration": 0.05436,
     "end_time": "2022-05-06T16:35:42.520237",
     "exception": false,
     "start_time": "2022-05-06T16:35:42.465877",
     "status": "completed"
    },
    "tags": []
   },
   "outputs": [
    {
     "data": {
      "text/html": [
       "<div>\n",
       "<style scoped>\n",
       "    .dataframe tbody tr th:only-of-type {\n",
       "        vertical-align: middle;\n",
       "    }\n",
       "\n",
       "    .dataframe tbody tr th {\n",
       "        vertical-align: top;\n",
       "    }\n",
       "\n",
       "    .dataframe thead th {\n",
       "        text-align: right;\n",
       "    }\n",
       "</style>\n",
       "<table border=\"1\" class=\"dataframe\">\n",
       "  <thead>\n",
       "    <tr style=\"text-align: right;\">\n",
       "      <th></th>\n",
       "      <th>tar</th>\n",
       "      <th>id</th>\n",
       "      <th>path</th>\n",
       "    </tr>\n",
       "  </thead>\n",
       "  <tbody>\n",
       "    <tr>\n",
       "      <th>0</th>\n",
       "      <td>0.0</td>\n",
       "      <td>20000943.0</td>\n",
       "      <td>/kaggle/input/heckfest/20000943.tif</td>\n",
       "    </tr>\n",
       "    <tr>\n",
       "      <th>1</th>\n",
       "      <td>1.0</td>\n",
       "      <td>10012150.0</td>\n",
       "      <td>/kaggle/input/heckfest/10012150.tif</td>\n",
       "    </tr>\n",
       "    <tr>\n",
       "      <th>2</th>\n",
       "      <td>1.0</td>\n",
       "      <td>10001662.0</td>\n",
       "      <td>/kaggle/input/heckfest/10001662.tif</td>\n",
       "    </tr>\n",
       "    <tr>\n",
       "      <th>3</th>\n",
       "      <td>1.0</td>\n",
       "      <td>10005404.0</td>\n",
       "      <td>/kaggle/input/heckfest/10005404.tif</td>\n",
       "    </tr>\n",
       "    <tr>\n",
       "      <th>4</th>\n",
       "      <td>0.0</td>\n",
       "      <td>20003286.0</td>\n",
       "      <td>/kaggle/input/heckfest/20003286.tif</td>\n",
       "    </tr>\n",
       "    <tr>\n",
       "      <th>...</th>\n",
       "      <td>...</td>\n",
       "      <td>...</td>\n",
       "      <td>...</td>\n",
       "    </tr>\n",
       "    <tr>\n",
       "      <th>2895</th>\n",
       "      <td>0.0</td>\n",
       "      <td>10000200.0</td>\n",
       "      <td>/kaggle/input/heckfest/10000200.tif</td>\n",
       "    </tr>\n",
       "    <tr>\n",
       "      <th>2896</th>\n",
       "      <td>0.0</td>\n",
       "      <td>20000959.0</td>\n",
       "      <td>/kaggle/input/heckfest/20000959.tif</td>\n",
       "    </tr>\n",
       "    <tr>\n",
       "      <th>2897</th>\n",
       "      <td>1.0</td>\n",
       "      <td>10011443.0</td>\n",
       "      <td>/kaggle/input/heckfest/10011443.tif</td>\n",
       "    </tr>\n",
       "    <tr>\n",
       "      <th>2898</th>\n",
       "      <td>0.0</td>\n",
       "      <td>10004066.0</td>\n",
       "      <td>/kaggle/input/heckfest/10004066.tif</td>\n",
       "    </tr>\n",
       "    <tr>\n",
       "      <th>2899</th>\n",
       "      <td>1.0</td>\n",
       "      <td>10005378.0</td>\n",
       "      <td>/kaggle/input/heckfest/10005378.tif</td>\n",
       "    </tr>\n",
       "  </tbody>\n",
       "</table>\n",
       "<p>2900 rows × 3 columns</p>\n",
       "</div>"
      ],
      "text/plain": [
       "      tar          id                                 path\n",
       "0     0.0  20000943.0  /kaggle/input/heckfest/20000943.tif\n",
       "1     1.0  10012150.0  /kaggle/input/heckfest/10012150.tif\n",
       "2     1.0  10001662.0  /kaggle/input/heckfest/10001662.tif\n",
       "3     1.0  10005404.0  /kaggle/input/heckfest/10005404.tif\n",
       "4     0.0  20003286.0  /kaggle/input/heckfest/20003286.tif\n",
       "...   ...         ...                                  ...\n",
       "2895  0.0  10000200.0  /kaggle/input/heckfest/10000200.tif\n",
       "2896  0.0  20000959.0  /kaggle/input/heckfest/20000959.tif\n",
       "2897  1.0  10011443.0  /kaggle/input/heckfest/10011443.tif\n",
       "2898  0.0  10004066.0  /kaggle/input/heckfest/10004066.tif\n",
       "2899  1.0  10005378.0  /kaggle/input/heckfest/10005378.tif\n",
       "\n",
       "[2900 rows x 3 columns]"
      ]
     },
     "execution_count": 14,
     "metadata": {},
     "output_type": "execute_result"
    }
   ],
   "source": [
    "# train.drop(['Unnamed: 0'],axis=1,inplace=True)\n",
    "# test.drop(['Unnamed: 0'],axis=1,inplace=True)\n",
    "train"
   ]
  },
  {
   "cell_type": "markdown",
   "metadata": {
    "papermill": {
     "duration": 0.064539,
     "end_time": "2022-05-06T16:35:42.632657",
     "exception": false,
     "start_time": "2022-05-06T16:35:42.568118",
     "status": "completed"
    },
    "tags": []
   },
   "source": [
    "# Directory settings"
   ]
  },
  {
   "cell_type": "code",
   "execution_count": 15,
   "metadata": {
    "execution": {
     "iopub.execute_input": "2022-05-06T16:35:42.709668Z",
     "iopub.status.busy": "2022-05-06T16:35:42.708715Z",
     "iopub.status.idle": "2022-05-06T16:35:42.712288Z",
     "shell.execute_reply": "2022-05-06T16:35:42.711778Z",
     "shell.execute_reply.started": "2022-05-06T16:05:33.276518Z"
    },
    "papermill": {
     "duration": 0.044604,
     "end_time": "2022-05-06T16:35:42.712430",
     "exception": false,
     "start_time": "2022-05-06T16:35:42.667826",
     "status": "completed"
    },
    "tags": []
   },
   "outputs": [],
   "source": [
    "# ====================================================\n",
    "# Directory settings\n",
    "# ====================================================\n",
    "import os\n",
    "\n",
    "OUTPUT_DIR = './'\n",
    "if not os.path.exists(OUTPUT_DIR):\n",
    "    os.makedirs(OUTPUT_DIR)\n",
    "\n",
    "TRAIN_PATH = '../input/d/datasets/sriv2804/cyberlabav/train_DETg9GD/Train'\n",
    "TEST_PATH = '../input/d/datasets/sriv2804/cyberlabav/test_Bh8pGW3/Test'"
   ]
  },
  {
   "cell_type": "markdown",
   "metadata": {
    "papermill": {
     "duration": 0.035084,
     "end_time": "2022-05-06T16:35:42.782778",
     "exception": false,
     "start_time": "2022-05-06T16:35:42.747694",
     "status": "completed"
    },
    "tags": []
   },
   "source": [
    "# CFG"
   ]
  },
  {
   "cell_type": "code",
   "execution_count": 16,
   "metadata": {
    "execution": {
     "iopub.execute_input": "2022-05-06T16:35:42.866545Z",
     "iopub.status.busy": "2022-05-06T16:35:42.864735Z",
     "iopub.status.idle": "2022-05-06T16:35:42.869852Z",
     "shell.execute_reply": "2022-05-06T16:35:42.869195Z",
     "shell.execute_reply.started": "2022-05-06T16:05:33.285122Z"
    },
    "papermill": {
     "duration": 0.049326,
     "end_time": "2022-05-06T16:35:42.869954",
     "exception": false,
     "start_time": "2022-05-06T16:35:42.820628",
     "status": "completed"
    },
    "tags": []
   },
   "outputs": [],
   "source": [
    "# ====================================================\n",
    "# CFG\n",
    "# ====================================================\n",
    "class CFG:\n",
    "    debug=False\n",
    "    print_freq=500\n",
    "    num_workers=4\n",
    "    model_name='efficientnet_b4'\n",
    "    size=512\n",
    "    scheduler='CosineAnnealingWarmRestarts' # ['ReduceLROnPlateau', 'CosineAnnealingLR', 'CosineAnnealingWarmRestarts']\n",
    "    criterion='LabelSmoothing' # ['CrossEntropyLoss', LabelSmoothing', 'FocalLoss' 'FocalCosineLoss', 'SymmetricCrossEntropyLoss', 'BiTemperedLoss', 'TaylorCrossEntropyLoss']\n",
    "    epochs=5\n",
    "    #factor=0.2 # ReduceLROnPlateau\n",
    "    #patience=4 # ReduceLROnPlateau\n",
    "    #eps=1e-6 # ReduceLROnPlateau\n",
    "    #T_max=10 # CosineAnnealingLR\n",
    "    T_0=10 # CosineAnnealingWarmRestarts\n",
    "    lr=1e-4\n",
    "    min_lr=1e-6\n",
    "    batch_size=10\n",
    "    weight_decay=1e-6\n",
    "    gradient_accumulation_steps=1\n",
    "    max_grad_norm=1000\n",
    "    seed=42\n",
    "    target_size=2\n",
    "    target_col='tar'\n",
    "    n_fold=5\n",
    "    trn_fold=[0, 1, 2, 3, 4]\n",
    "    train=True\n",
    "    smoothing=0.05\n",
    "    t1=0.3 # bi-tempered-loss https://www.kaggle.com/c/cassava-leaf-disease-classification/discussion/202017\n",
    "    t2=1.0 # bi-tempered-loss https://www.kaggle.com/c/cassava-leaf-disease-classification/discussion/202017\n",
    "    \n",
    "if CFG.debug:\n",
    "    CFG.epochs = 1\n",
    "    train = train.sample(n=1000, random_state=CFG.seed).reset_index(drop=True)"
   ]
  },
  {
   "cell_type": "markdown",
   "metadata": {
    "papermill": {
     "duration": 0.036452,
     "end_time": "2022-05-06T16:35:42.942302",
     "exception": false,
     "start_time": "2022-05-06T16:35:42.905850",
     "status": "completed"
    },
    "tags": []
   },
   "source": [
    "# Library"
   ]
  },
  {
   "cell_type": "code",
   "execution_count": 17,
   "metadata": {
    "execution": {
     "iopub.execute_input": "2022-05-06T16:35:43.025904Z",
     "iopub.status.busy": "2022-05-06T16:35:43.025042Z",
     "iopub.status.idle": "2022-05-06T16:35:47.361662Z",
     "shell.execute_reply": "2022-05-06T16:35:47.360694Z",
     "shell.execute_reply.started": "2022-05-06T16:05:33.302776Z"
    },
    "papermill": {
     "duration": 4.383826,
     "end_time": "2022-05-06T16:35:47.361783",
     "exception": false,
     "start_time": "2022-05-06T16:35:42.977957",
     "status": "completed"
    },
    "tags": []
   },
   "outputs": [],
   "source": [
    "# ====================================================\n",
    "# Library\n",
    "# ====================================================\n",
    "import sys\n",
    "sys.path.append('../input/pytorch-image-models/pytorch-image-models-master')\n",
    "\n",
    "import os\n",
    "import math\n",
    "import time\n",
    "import random\n",
    "import shutil\n",
    "from pathlib import Path\n",
    "from contextlib import contextmanager\n",
    "from collections import defaultdict, Counter\n",
    "\n",
    "import scipy as sp\n",
    "import numpy as np\n",
    "import pandas as pd\n",
    "\n",
    "from sklearn import preprocessing\n",
    "from sklearn.metrics import accuracy_score\n",
    "from sklearn.model_selection import StratifiedKFold\n",
    "\n",
    "from tqdm.auto import tqdm\n",
    "from functools import partial\n",
    "\n",
    "import cv2\n",
    "from PIL import Image\n",
    "\n",
    "import torch\n",
    "import torch.nn as nn\n",
    "import torch.nn.functional as F\n",
    "from torch.optim import Adam, SGD\n",
    "import torchvision.models as models\n",
    "from torch.nn.parameter import Parameter\n",
    "from torch.utils.data import DataLoader, Dataset, WeightedRandomSampler\n",
    "from torch.optim.lr_scheduler import CosineAnnealingWarmRestarts, CosineAnnealingLR, ReduceLROnPlateau\n",
    "\n",
    "import albumentations as A\n",
    "from albumentations.pytorch import ToTensorV2\n",
    "from albumentations import ImageOnlyTransform\n",
    "\n",
    "import timm\n",
    "\n",
    "import warnings \n",
    "warnings.filterwarnings('ignore')\n",
    "\n",
    "\n",
    "device = torch.device('cuda' if torch.cuda.is_available() else 'cpu')"
   ]
  },
  {
   "cell_type": "markdown",
   "metadata": {
    "papermill": {
     "duration": 0.040447,
     "end_time": "2022-05-06T16:35:47.444659",
     "exception": false,
     "start_time": "2022-05-06T16:35:47.404212",
     "status": "completed"
    },
    "tags": []
   },
   "source": [
    "# Utils"
   ]
  },
  {
   "cell_type": "code",
   "execution_count": 18,
   "metadata": {
    "execution": {
     "iopub.execute_input": "2022-05-06T16:35:47.541991Z",
     "iopub.status.busy": "2022-05-06T16:35:47.540889Z",
     "iopub.status.idle": "2022-05-06T16:35:47.549287Z",
     "shell.execute_reply": "2022-05-06T16:35:47.548669Z",
     "shell.execute_reply.started": "2022-05-06T16:05:33.32553Z"
    },
    "papermill": {
     "duration": 0.063306,
     "end_time": "2022-05-06T16:35:47.549393",
     "exception": false,
     "start_time": "2022-05-06T16:35:47.486087",
     "status": "completed"
    },
    "tags": []
   },
   "outputs": [],
   "source": [
    "# ====================================================\n",
    "# Utils\n",
    "# ====================================================\n",
    "def get_score(y_true, y_pred):\n",
    "    return accuracy_score(y_true, y_pred)\n",
    "\n",
    "\n",
    "@contextmanager\n",
    "def timer(name):\n",
    "    t0 = time.time()\n",
    "    LOGGER.info(f'[{name}] start')\n",
    "    yield\n",
    "    LOGGER.info(f'[{name}] done in {time.time() - t0:.0f} s.')\n",
    "\n",
    "\n",
    "def init_logger(log_file=OUTPUT_DIR+'train.log'):\n",
    "    from logging import getLogger, INFO, FileHandler,  Formatter,  StreamHandler\n",
    "    logger = getLogger(__name__)\n",
    "    logger.setLevel(INFO)\n",
    "    handler1 = StreamHandler()\n",
    "    handler1.setFormatter(Formatter(\"%(message)s\"))\n",
    "    handler2 = FileHandler(filename=log_file)\n",
    "    handler2.setFormatter(Formatter(\"%(message)s\"))\n",
    "    logger.addHandler(handler1)\n",
    "    logger.addHandler(handler2)\n",
    "    return logger\n",
    "\n",
    "LOGGER = init_logger()\n",
    "\n",
    "\n",
    "def seed_torch(seed=42):\n",
    "    random.seed(seed)\n",
    "    os.environ['PYTHONHASHSEED'] = str(seed)\n",
    "    np.random.seed(seed)\n",
    "    torch.manual_seed(seed)\n",
    "    torch.cuda.manual_seed(seed)\n",
    "    torch.backends.cudnn.deterministic = True\n",
    "\n",
    "seed_torch(seed=CFG.seed)"
   ]
  },
  {
   "cell_type": "markdown",
   "metadata": {
    "papermill": {
     "duration": 0.041422,
     "end_time": "2022-05-06T16:35:47.631369",
     "exception": false,
     "start_time": "2022-05-06T16:35:47.589947",
     "status": "completed"
    },
    "tags": []
   },
   "source": [
    "# CV split"
   ]
  },
  {
   "cell_type": "code",
   "execution_count": 19,
   "metadata": {
    "execution": {
     "iopub.execute_input": "2022-05-06T16:35:47.726258Z",
     "iopub.status.busy": "2022-05-06T16:35:47.725485Z",
     "iopub.status.idle": "2022-05-06T16:35:47.744701Z",
     "shell.execute_reply": "2022-05-06T16:35:47.745416Z",
     "shell.execute_reply.started": "2022-05-06T16:05:33.345643Z"
    },
    "papermill": {
     "duration": 0.073048,
     "end_time": "2022-05-06T16:35:47.745644",
     "exception": false,
     "start_time": "2022-05-06T16:35:47.672596",
     "status": "completed"
    },
    "tags": []
   },
   "outputs": [
    {
     "name": "stdout",
     "output_type": "stream",
     "text": [
      "fold  tar\n",
      "0     0.0    442\n",
      "      1.0    138\n",
      "1     0.0    442\n",
      "      1.0    138\n",
      "2     0.0    442\n",
      "      1.0    138\n",
      "3     0.0    441\n",
      "      1.0    139\n",
      "4     0.0    441\n",
      "      1.0    139\n",
      "dtype: int64\n"
     ]
    }
   ],
   "source": [
    "folds = train.copy()\n",
    "Fold = StratifiedKFold(n_splits=CFG.n_fold, shuffle=True, random_state=CFG.seed)\n",
    "for n, (train_index, val_index) in enumerate(Fold.split(folds, folds[CFG.target_col])):\n",
    "    folds.loc[val_index, 'fold'] = int(n)\n",
    "folds['fold'] = folds['fold'].astype(int)\n",
    "print(folds.groupby(['fold', CFG.target_col]).size())"
   ]
  },
  {
   "cell_type": "markdown",
   "metadata": {
    "papermill": {
     "duration": 0.04028,
     "end_time": "2022-05-06T16:35:47.826109",
     "exception": false,
     "start_time": "2022-05-06T16:35:47.785829",
     "status": "completed"
    },
    "tags": []
   },
   "source": [
    "# Dataset"
   ]
  },
  {
   "cell_type": "code",
   "execution_count": 20,
   "metadata": {
    "execution": {
     "iopub.execute_input": "2022-05-06T16:35:47.924691Z",
     "iopub.status.busy": "2022-05-06T16:35:47.922197Z",
     "iopub.status.idle": "2022-05-06T16:35:47.925545Z",
     "shell.execute_reply": "2022-05-06T16:35:47.926256Z",
     "shell.execute_reply.started": "2022-05-06T16:05:33.371948Z"
    },
    "papermill": {
     "duration": 0.059422,
     "end_time": "2022-05-06T16:35:47.926420",
     "exception": false,
     "start_time": "2022-05-06T16:35:47.866998",
     "status": "completed"
    },
    "tags": []
   },
   "outputs": [],
   "source": [
    "# ====================================================\n",
    "# Dataset\n",
    "# ====================================================\n",
    "class TrainDataset(Dataset):\n",
    "    def __init__(self, df, transform=None):\n",
    "        self.df = df\n",
    "        self.file_names = df['path'].values\n",
    "        self.labels = df['tar'].values\n",
    "        self.transform = transform\n",
    "        \n",
    "    def __len__(self):\n",
    "        return len(self.df)\n",
    "\n",
    "    def __getitem__(self, idx):\n",
    "        file_name = self.file_names[idx]\n",
    "        file_path = file_name\n",
    "        image = cv2.imread(file_path)\n",
    "        image = cv2.cvtColor(image, cv2.COLOR_BGR2RGB)\n",
    "        if self.transform:\n",
    "            augmented = self.transform(image=image)\n",
    "            image = augmented['image']\n",
    "        label = torch.tensor(self.labels[idx]).long()\n",
    "        return image, label\n",
    "    \n",
    "\n",
    "class TestDataset(Dataset):\n",
    "    def __init__(self, df, transform=None):\n",
    "        self.df = df\n",
    "        self.file_names = df['path'].values\n",
    "        self.transform = transform\n",
    "        \n",
    "    def __len__(self):\n",
    "        return len(self.df)\n",
    "\n",
    "    def __getitem__(self, idx):\n",
    "        file_name = self.file_names[idx]\n",
    "        file_path = file_name\n",
    "        image = cv2.imread(file_path)\n",
    "        image = cv2.cvtColor(image, cv2.COLOR_BGR2RGB)\n",
    "        if self.transform:\n",
    "            augmented = self.transform(image=image)\n",
    "            image = augmented['image']\n",
    "        return image"
   ]
  },
  {
   "cell_type": "code",
   "execution_count": 21,
   "metadata": {
    "execution": {
     "iopub.execute_input": "2022-05-06T16:35:48.020699Z",
     "iopub.status.busy": "2022-05-06T16:35:48.019256Z",
     "iopub.status.idle": "2022-05-06T16:35:49.966329Z",
     "shell.execute_reply": "2022-05-06T16:35:49.965799Z",
     "shell.execute_reply.started": "2022-05-06T16:05:33.39362Z"
    },
    "papermill": {
     "duration": 1.996303,
     "end_time": "2022-05-06T16:35:49.966448",
     "exception": false,
     "start_time": "2022-05-06T16:35:47.970145",
     "status": "completed"
    },
    "tags": []
   },
   "outputs": [
    {
     "data": {
      "image/png": "[encoded data removed]",
      "text/plain": [
       "<Figure size 432x288 with 1 Axes>"
      ]
     },
     "metadata": {
      "needs_background": "light"
     },
     "output_type": "display_data"
    },
    {
     "data": {
      "image/png": "[encoded data removed]",
      "text/plain": [
       "<Figure size 432x288 with 1 Axes>"
      ]
     },
     "metadata": {
      "needs_background": "light"
     },
     "output_type": "display_data"
    }
   ],
   "source": [
    "train_dataset = TrainDataset(train, transform=None)\n",
    "\n",
    "for i in range(2):\n",
    "    image, label = train_dataset[i]\n",
    "    plt.imshow(image)\n",
    "    plt.title(f'label: {label}')\n",
    "    plt.show() "
   ]
  },
  {
   "cell_type": "markdown",
   "metadata": {
    "papermill": {
     "duration": 0.037189,
     "end_time": "2022-05-06T16:35:50.041476",
     "exception": false,
     "start_time": "2022-05-06T16:35:50.004287",
     "status": "completed"
    },
    "tags": []
   },
   "source": [
    "# Transforms"
   ]
  },
  {
   "cell_type": "code",
   "execution_count": 22,
   "metadata": {
    "execution": {
     "iopub.execute_input": "2022-05-06T16:35:50.127732Z",
     "iopub.status.busy": "2022-05-06T16:35:50.125320Z",
     "iopub.status.idle": "2022-05-06T16:35:50.128429Z",
     "shell.execute_reply": "2022-05-06T16:35:50.128945Z",
     "shell.execute_reply.started": "2022-05-06T16:05:35.068747Z"
    },
    "papermill": {
     "duration": 0.049542,
     "end_time": "2022-05-06T16:35:50.129106",
     "exception": false,
     "start_time": "2022-05-06T16:35:50.079564",
     "status": "completed"
    },
    "tags": []
   },
   "outputs": [],
   "source": [
    "# ====================================================\n",
    "# Transforms\n",
    "# ====================================================\n",
    "def get_transforms(*, data):\n",
    "    \n",
    "    if data == 'train':\n",
    "        return A.Compose([\n",
    "            A.Resize(CFG.size, CFG.size),\n",
    "#             A.RandomResizedCrop(CFG.size, CFG.size),\n",
    "            ##A.Transpose(p=0.5),\n",
    "            ##A.HorizontalFlip(p=0.5),\n",
    "            #A.VerticalFlip(p=0.5),\n",
    "            #A.ShiftScaleRotate(p=0.5),\n",
    "            #A.ColorJitter(),\n",
    "            A.Normalize(\n",
    "                mean=[0.485, 0.456, 0.406],\n",
    "                std=[0.229, 0.224, 0.225],\n",
    "            ),\n",
    "            ToTensorV2(),\n",
    "        ])\n",
    "\n",
    "    elif data == 'valid':\n",
    "        return A.Compose([\n",
    "            A.Resize(CFG.size, CFG.size),\n",
    "            A.Normalize(\n",
    "                mean=[0.485, 0.456, 0.406],\n",
    "                std=[0.229, 0.224, 0.225],\n",
    "            ),\n",
    "            ToTensorV2(),\n",
    "        ])"
   ]
  },
  {
   "cell_type": "code",
   "execution_count": 23,
   "metadata": {
    "execution": {
     "iopub.execute_input": "2022-05-06T16:35:50.208055Z",
     "iopub.status.busy": "2022-05-06T16:35:50.206938Z",
     "iopub.status.idle": "2022-05-06T16:35:50.665059Z",
     "shell.execute_reply": "2022-05-06T16:35:50.665711Z",
     "shell.execute_reply.started": "2022-05-06T16:05:35.083932Z"
    },
    "papermill": {
     "duration": 0.500891,
     "end_time": "2022-05-06T16:35:50.665851",
     "exception": false,
     "start_time": "2022-05-06T16:35:50.164960",
     "status": "completed"
    },
    "tags": []
   },
   "outputs": [
    {
     "data": {
      "image/png": "[encoded data removed]",
      "text/plain": [
       "<Figure size 432x288 with 1 Axes>"
      ]
     },
     "metadata": {
      "needs_background": "light"
     },
     "output_type": "display_data"
    },
    {
     "data": {
      "image/png": "[encoded data removed]",
      "text/plain": [
       "<Figure size 432x288 with 1 Axes>"
      ]
     },
     "metadata": {
      "needs_background": "light"
     },
     "output_type": "display_data"
    }
   ],
   "source": [
    "train_dataset = TrainDataset(train, transform=get_transforms(data='train'))\n",
    "\n",
    "for i in range(2):\n",
    "    image, label = train_dataset[i]\n",
    "    plt.imshow(image[0])\n",
    "    plt.title(f'label: {label}')\n",
    "    plt.show() "
   ]
  },
  {
   "cell_type": "code",
   "execution_count": 24,
   "metadata": {
    "execution": {
     "iopub.execute_input": "2022-05-06T16:35:50.757052Z",
     "iopub.status.busy": "2022-05-06T16:35:50.755365Z",
     "iopub.status.idle": "2022-05-06T16:35:50.759361Z",
     "shell.execute_reply": "2022-05-06T16:35:50.758866Z",
     "shell.execute_reply.started": "2022-05-06T16:05:35.617738Z"
    },
    "papermill": {
     "duration": 0.053948,
     "end_time": "2022-05-06T16:35:50.759491",
     "exception": false,
     "start_time": "2022-05-06T16:35:50.705543",
     "status": "completed"
    },
    "tags": []
   },
   "outputs": [],
   "source": [
    "# ====================================================\n",
    "# MODEL\n",
    "# ====================================================\n",
    "class CustomEfficientNet(nn.Module):\n",
    "    def __init__(self, model_name=CFG.model_name, pretrained=False):\n",
    "        super().__init__()\n",
    "        self.model = timm.create_model(CFG.model_name, pretrained=pretrained)\n",
    "        n_features = self.model.classifier.in_features\n",
    "        self.model.classifier = nn.Linear(n_features, CFG.target_size)\n",
    "\n",
    "    def forward(self, x):\n",
    "        x = self.model(x)\n",
    "        return x\n",
    "    \n",
    "\n",
    "class CustomResNext(nn.Module):\n",
    "    def __init__(self, model_name='resnext50_32x4d', pretrained=False):\n",
    "        super().__init__()\n",
    "        self.model = timm.create_model(model_name, pretrained=pretrained)\n",
    "        n_features = self.model.fc.in_features\n",
    "        self.model.fc = nn.Linear(n_features, CFG.target_size)\n",
    "\n",
    "    def forward(self, x):\n",
    "        x = self.model(x)\n",
    "        return x"
   ]
  },
  {
   "cell_type": "code",
   "execution_count": 25,
   "metadata": {
    "execution": {
     "iopub.execute_input": "2022-05-06T16:35:50.849170Z",
     "iopub.status.busy": "2022-05-06T16:35:50.844279Z",
     "iopub.status.idle": "2022-05-06T16:35:54.790846Z",
     "shell.execute_reply": "2022-05-06T16:35:54.791558Z",
     "shell.execute_reply.started": "2022-05-06T16:05:35.632288Z"
    },
    "papermill": {
     "duration": 3.99324,
     "end_time": "2022-05-06T16:35:54.791752",
     "exception": false,
     "start_time": "2022-05-06T16:35:50.798512",
     "status": "completed"
    },
    "tags": []
   },
   "outputs": [
    {
     "name": "stderr",
     "output_type": "stream",
     "text": [
      "Downloading: \"https://github.com/rwightman/pytorch-image-models/releases/download/v0.1-weights/efficientnet_b4_ra2_320-7eb33cd5.pth\" to /root/.cache/torch/hub/checkpoints/efficientnet_b4_ra2_320-7eb33cd5.pth\n"
     ]
    }
   ],
   "source": [
    "model = CustomEfficientNet(model_name=CFG.model_name, pretrained=True)\n",
    "train_dataset = TrainDataset(train, transform=get_transforms(data='train'))\n",
    "train_loader = DataLoader(train_dataset, batch_size=12, shuffle=True,\n",
    "                          num_workers=4, pin_memory=True, drop_last=True)\n",
    "\n",
    "# for image, label in train_loader:\n",
    "#     output = model(image)\n",
    "#     print(output)\n",
    "#     break"
   ]
  },
  {
   "cell_type": "markdown",
   "metadata": {
    "papermill": {
     "duration": 0.094278,
     "end_time": "2022-05-06T16:35:54.951258",
     "exception": false,
     "start_time": "2022-05-06T16:35:54.856980",
     "status": "completed"
    },
    "tags": []
   },
   "source": [
    "# Criterion"
   ]
  },
  {
   "cell_type": "markdown",
   "metadata": {
    "_kg_hide-input": true,
    "papermill": {
     "duration": 0.071849,
     "end_time": "2022-05-06T16:35:55.107556",
     "exception": false,
     "start_time": "2022-05-06T16:35:55.035707",
     "status": "completed"
    },
    "tags": []
   },
   "source": [
    "## Label Smoothing"
   ]
  },
  {
   "cell_type": "code",
   "execution_count": 26,
   "metadata": {
    "_kg_hide-input": true,
    "_kg_hide-output": true,
    "execution": {
     "iopub.execute_input": "2022-05-06T16:35:55.257326Z",
     "iopub.status.busy": "2022-05-06T16:35:55.256259Z",
     "iopub.status.idle": "2022-05-06T16:35:55.262334Z",
     "shell.execute_reply": "2022-05-06T16:35:55.263173Z",
     "shell.execute_reply.started": "2022-05-06T16:05:36.128218Z"
    },
    "papermill": {
     "duration": 0.085449,
     "end_time": "2022-05-06T16:35:55.263349",
     "exception": false,
     "start_time": "2022-05-06T16:35:55.177900",
     "status": "completed"
    },
    "tags": []
   },
   "outputs": [],
   "source": [
    "# ====================================================\n",
    "# Label Smoothing\n",
    "# ====================================================\n",
    "class LabelSmoothingLoss(nn.Module): \n",
    "    def __init__(self, classes=2, smoothing=0.0, dim=-1): \n",
    "        super(LabelSmoothingLoss, self).__init__() \n",
    "        self.confidence = 1.0 - smoothing \n",
    "        self.smoothing = smoothing \n",
    "        self.cls = classes \n",
    "        self.dim = dim \n",
    "    def forward(self, pred, target): \n",
    "        pred = pred.log_softmax(dim=self.dim) \n",
    "        with torch.no_grad():\n",
    "            true_dist = torch.zeros_like(pred) \n",
    "            true_dist.fill_(self.smoothing / (self.cls - 1)) \n",
    "            true_dist.scatter_(1, target.data.unsqueeze(1), self.confidence) \n",
    "        return torch.mean(torch.sum(-true_dist * pred, dim=self.dim))"
   ]
  },
  {
   "cell_type": "markdown",
   "metadata": {
    "papermill": {
     "duration": 0.066009,
     "end_time": "2022-05-06T16:35:55.398469",
     "exception": false,
     "start_time": "2022-05-06T16:35:55.332460",
     "status": "completed"
    },
    "tags": []
   },
   "source": [
    "## Focal Loss"
   ]
  },
  {
   "cell_type": "code",
   "execution_count": 27,
   "metadata": {
    "execution": {
     "iopub.execute_input": "2022-05-06T16:35:55.525507Z",
     "iopub.status.busy": "2022-05-06T16:35:55.524310Z",
     "iopub.status.idle": "2022-05-06T16:35:55.527674Z",
     "shell.execute_reply": "2022-05-06T16:35:55.528220Z",
     "shell.execute_reply.started": "2022-05-06T16:05:36.139897Z"
    },
    "papermill": {
     "duration": 0.062244,
     "end_time": "2022-05-06T16:35:55.528358",
     "exception": false,
     "start_time": "2022-05-06T16:35:55.466114",
     "status": "completed"
    },
    "tags": []
   },
   "outputs": [],
   "source": [
    "class FocalLoss(nn.Module):\n",
    "    def __init__(self, alpha=1, gamma=2, reduce=True):\n",
    "        super(FocalLoss, self).__init__()\n",
    "        self.alpha = alpha\n",
    "        self.gamma = gamma\n",
    "        self.reduce = reduce\n",
    "\n",
    "    def forward(self, inputs, targets):\n",
    "        BCE_loss = nn.CrossEntropyLoss()(inputs, targets)\n",
    "\n",
    "        pt = torch.exp(-BCE_loss)\n",
    "        F_loss = self.alpha * (1-pt)**self.gamma * BCE_loss\n",
    "\n",
    "        if self.reduce:\n",
    "            return torch.mean(F_loss)\n",
    "        else:\n",
    "            return F_loss"
   ]
  },
  {
   "cell_type": "markdown",
   "metadata": {
    "papermill": {
     "duration": 0.038224,
     "end_time": "2022-05-06T16:35:55.605510",
     "exception": false,
     "start_time": "2022-05-06T16:35:55.567286",
     "status": "completed"
    },
    "tags": []
   },
   "source": [
    "# Helper functions"
   ]
  },
  {
   "cell_type": "code",
   "execution_count": 28,
   "metadata": {
    "execution": {
     "iopub.execute_input": "2022-05-06T16:35:55.687736Z",
     "iopub.status.busy": "2022-05-06T16:35:55.686879Z",
     "iopub.status.idle": "2022-05-06T16:35:55.690688Z",
     "shell.execute_reply": "2022-05-06T16:35:55.690137Z",
     "shell.execute_reply.started": "2022-05-06T16:05:36.153688Z"
    },
    "papermill": {
     "duration": 0.046648,
     "end_time": "2022-05-06T16:35:55.690795",
     "exception": false,
     "start_time": "2022-05-06T16:35:55.644147",
     "status": "completed"
    },
    "tags": []
   },
   "outputs": [],
   "source": [
    "from tqdm import tqdm"
   ]
  },
  {
   "cell_type": "code",
   "execution_count": 29,
   "metadata": {
    "execution": {
     "iopub.execute_input": "2022-05-06T16:35:55.802357Z",
     "iopub.status.busy": "2022-05-06T16:35:55.783633Z",
     "iopub.status.idle": "2022-05-06T16:35:55.806090Z",
     "shell.execute_reply": "2022-05-06T16:35:55.805334Z",
     "shell.execute_reply.started": "2022-05-06T16:05:36.16234Z"
    },
    "papermill": {
     "duration": 0.076073,
     "end_time": "2022-05-06T16:35:55.806272",
     "exception": false,
     "start_time": "2022-05-06T16:35:55.730199",
     "status": "completed"
    },
    "tags": []
   },
   "outputs": [],
   "source": [
    "# ====================================================\n",
    "# Helper functions\n",
    "# ====================================================\n",
    "class AverageMeter(object):\n",
    "    \"\"\"Computes and stores the average and current value\"\"\"\n",
    "    def __init__(self):\n",
    "        self.reset()\n",
    "\n",
    "    def reset(self):\n",
    "        self.val = 0\n",
    "        self.avg = 0\n",
    "        self.sum = 0\n",
    "        self.count = 0\n",
    "\n",
    "    def update(self, val, n=1):\n",
    "        self.val = val\n",
    "        self.sum += val * n\n",
    "        self.count += n\n",
    "        self.avg = self.sum / self.count\n",
    "\n",
    "\n",
    "def asMinutes(s):\n",
    "    m = math.floor(s / 60)\n",
    "    s -= m * 60\n",
    "    return '%dm %ds' % (m, s)\n",
    "\n",
    "\n",
    "def timeSince(since, percent):\n",
    "    now = time.time()\n",
    "    s = now - since\n",
    "    es = s / (percent)\n",
    "    rs = es - s\n",
    "    return '%s (remain %s)' % (asMinutes(s), asMinutes(rs))\n",
    "\n",
    "\n",
    "def train_fn(train_loader, model, criterion, optimizer, epoch, scheduler, device):\n",
    "    batch_time = AverageMeter()\n",
    "    data_time = AverageMeter()\n",
    "    losses = AverageMeter()\n",
    "    scores = AverageMeter()\n",
    "    # switch to train mode\n",
    "    model.train()\n",
    "    start = end = time.time()\n",
    "    global_step = 0\n",
    "    for step, (images, labels) in tqdm(enumerate(train_loader), total = len(train_loader)):\n",
    "        # measure data loading time\n",
    "        data_time.update(time.time() - end)\n",
    "        images = images.to(device)\n",
    "        labels = labels.to(device)\n",
    "        batch_size = labels.size(0)\n",
    "        y_preds = model(images)\n",
    "        loss = criterion(y_preds, labels)\n",
    "        \n",
    "        losses.update(loss.item(), batch_size)\n",
    "        if CFG.gradient_accumulation_steps > 1:\n",
    "            loss = loss / CFG.gradient_accumulation_steps       \n",
    "        loss.backward()\n",
    "        grad_norm = torch.nn.utils.clip_grad_norm_(model.parameters(), CFG.max_grad_norm)\n",
    "        if (step + 1) % CFG.gradient_accumulation_steps == 0:\n",
    "            optimizer.step()\n",
    "            optimizer.zero_grad()\n",
    "            global_step += 1\n",
    "        # measure elapsed time\n",
    "        batch_time.update(time.time() - end)\n",
    "        end = time.time()\n",
    "        if step % CFG.print_freq == 0 or step == (len(train_loader)-1):\n",
    "            print('Epoch: [{0}][{1}/{2}] '\n",
    "                  'Data {data_time.val:.3f} ({data_time.avg:.3f}) '\n",
    "                  'Elapsed {remain:s} '\n",
    "                  'Loss: {loss.val:.4f}({loss.avg:.4f}) '\n",
    "                  'Grad: {grad_norm:.4f}  '\n",
    "                  #'LR: {lr:.6f}  '\n",
    "                  .format(\n",
    "                   epoch+1, step, len(train_loader), batch_time=batch_time,\n",
    "                   data_time=data_time, loss=losses,\n",
    "                   remain=timeSince(start, float(step+1)/len(train_loader)),\n",
    "                   grad_norm=grad_norm,\n",
    "                   #lr=scheduler.get_lr()[0],\n",
    "                   ))\n",
    "    return losses.avg\n",
    "\n",
    "\n",
    "def valid_fn(valid_loader, model, criterion, device):\n",
    "    batch_time = AverageMeter()\n",
    "    data_time = AverageMeter()\n",
    "    losses = AverageMeter()\n",
    "    scores = AverageMeter()\n",
    "    # switch to evaluation mode\n",
    "    model.eval()\n",
    "    preds = []\n",
    "    start = end = time.time()\n",
    "    for step, (images, labels) in enumerate(valid_loader):\n",
    "        # measure data loading time\n",
    "        data_time.update(time.time() - end)\n",
    "        images = images.to(device)\n",
    "        labels = labels.to(device)\n",
    "        batch_size = labels.size(0)\n",
    "        # compute loss\n",
    "        with torch.no_grad():\n",
    "            y_preds = model(images)\n",
    "        loss = criterion(y_preds, labels)\n",
    "        losses.update(loss.item(), batch_size)\n",
    "        # record accuracy\n",
    "        preds.append(y_preds.softmax(1).to('cpu').numpy())\n",
    "        if CFG.gradient_accumulation_steps > 1:\n",
    "            loss = loss / CFG.gradient_accumulation_steps\n",
    "        # measure elapsed time\n",
    "        batch_time.update(time.time() - end)\n",
    "        end = time.time()\n",
    "        if step % CFG.print_freq == 0 or step == (len(valid_loader)-1):\n",
    "            print('EVAL: [{0}/{1}] '\n",
    "                  'Data {data_time.val:.3f} ({data_time.avg:.3f}) '\n",
    "                  'Elapsed {remain:s} '\n",
    "                  'Loss: {loss.val:.4f}({loss.avg:.4f}) '\n",
    "                  .format(\n",
    "                   step, len(valid_loader), batch_time=batch_time,\n",
    "                   data_time=data_time, loss=losses,\n",
    "                   remain=timeSince(start, float(step+1)/len(valid_loader)),\n",
    "                   ))\n",
    "    predictions = np.concatenate(preds)\n",
    "    return losses.avg, predictions\n",
    "\n"
   ]
  },
  {
   "cell_type": "markdown",
   "metadata": {
    "papermill": {
     "duration": 0.038898,
     "end_time": "2022-05-06T16:35:55.883283",
     "exception": false,
     "start_time": "2022-05-06T16:35:55.844385",
     "status": "completed"
    },
    "tags": []
   },
   "source": [
    "# Train loop"
   ]
  },
  {
   "cell_type": "code",
   "execution_count": 30,
   "metadata": {
    "execution": {
     "iopub.execute_input": "2022-05-06T16:35:55.990940Z",
     "iopub.status.busy": "2022-05-06T16:35:55.985342Z",
     "iopub.status.idle": "2022-05-06T16:35:55.994338Z",
     "shell.execute_reply": "2022-05-06T16:35:55.993639Z",
     "shell.execute_reply.started": "2022-05-06T16:05:36.198766Z"
    },
    "papermill": {
     "duration": 0.071609,
     "end_time": "2022-05-06T16:35:55.994484",
     "exception": false,
     "start_time": "2022-05-06T16:35:55.922875",
     "status": "completed"
    },
    "tags": []
   },
   "outputs": [],
   "source": [
    "# ====================================================\n",
    "# Train loop\n",
    "# ====================================================\n",
    "def train_loop(folds, fold):\n",
    "\n",
    "    LOGGER.info(f\"========== fold: {fold} training ==========\")\n",
    "\n",
    "    # ====================================================\n",
    "    # loader\n",
    "    # ====================================================\n",
    "    trn_idx = folds[folds['fold'] != fold].index\n",
    "    val_idx = folds[folds['fold'] == fold].index\n",
    "\n",
    "    train_folds = folds.loc[trn_idx].reset_index(drop=True)\n",
    "    valid_folds = folds.loc[val_idx].reset_index(drop=True)\n",
    "\n",
    "    train_dataset = TrainDataset(train_folds, \n",
    "                                 transform=get_transforms(data='train'))\n",
    "    valid_dataset = TrainDataset(valid_folds, \n",
    "                                 transform=get_transforms(data='valid'))\n",
    "\n",
    "    train_loader = DataLoader(train_dataset, \n",
    "                              batch_size=CFG.batch_size, \n",
    "                              shuffle=True, \n",
    "                              num_workers=CFG.num_workers, pin_memory=True, drop_last=True)\n",
    "    valid_loader = DataLoader(valid_dataset, \n",
    "                              batch_size=CFG.batch_size, \n",
    "                              shuffle=False, \n",
    "                              num_workers=CFG.num_workers, pin_memory=True, drop_last=False)\n",
    "    \n",
    "    # ====================================================\n",
    "    # scheduler \n",
    "    # ====================================================\n",
    "    def get_scheduler(optimizer):\n",
    "        if CFG.scheduler=='ReduceLROnPlateau':\n",
    "            scheduler = ReduceLROnPlateau(optimizer, mode='min', factor=CFG.factor, patience=CFG.patience, verbose=True, eps=CFG.eps)\n",
    "        elif CFG.scheduler=='CosineAnnealingLR':\n",
    "            scheduler = CosineAnnealingLR(optimizer, T_max=CFG.T_max, eta_min=CFG.min_lr, last_epoch=-1)\n",
    "        elif CFG.scheduler=='CosineAnnealingWarmRestarts':\n",
    "            scheduler = CosineAnnealingWarmRestarts(optimizer, T_0=CFG.T_0, T_mult=1, eta_min=CFG.min_lr, last_epoch=-1)\n",
    "        return scheduler\n",
    "\n",
    "    # ====================================================\n",
    "    # model & optimizer\n",
    "    # ====================================================\n",
    "    #model = CustomResNext(CFG.model_name, pretrained=True)\n",
    "    model = CustomEfficientNet(CFG.model_name, pretrained=True)\n",
    "    \n",
    "    model.to(device)\n",
    "\n",
    "    optimizer = Adam(model.parameters(), lr=CFG.lr, weight_decay=CFG.weight_decay, amsgrad=False)\n",
    "    scheduler = get_scheduler(optimizer)\n",
    "       \n",
    "        \n",
    "    \n",
    "    # ====================================================\n",
    "    # Criterion - ['LabelSmoothing', 'FocalLoss' 'FocalCosineLoss', 'SymmetricCrossEntropyLoss', 'BiTemperedLoss', 'TaylorCrossEntropyLoss']\n",
    "    # ====================================================\n",
    "    \n",
    "    def get_criterion():\n",
    "        if CFG.criterion=='CrossEntropyLoss':\n",
    "            criterion = nn.CrossEntropyLoss()\n",
    "        elif CFG.criterion=='LabelSmoothing':\n",
    "            criterion = LabelSmoothingLoss(classes=CFG.target_size, smoothing=CFG.smoothing)\n",
    "        elif CFG.criterion=='FocalLoss':\n",
    "            criterion = FocalLoss().to(device)\n",
    "        return criterion\n",
    "\n",
    "\n",
    "    # ====================================================\n",
    "    # loop \n",
    "    # ====================================================\n",
    "    criterion = get_criterion()\n",
    "    LOGGER.info(f'Criterion: {criterion}')\n",
    "\n",
    "    best_score = 0.\n",
    "    best_loss = np.inf\n",
    "    \n",
    "    for epoch in range(CFG.epochs):\n",
    "        \n",
    "        start_time = time.time()\n",
    "        \n",
    "        # train\n",
    "        avg_loss = train_fn(train_loader, model, criterion, optimizer, epoch, scheduler, device)\n",
    "\n",
    "        # eval\n",
    "        avg_val_loss, preds = valid_fn(valid_loader, model, criterion, device)\n",
    "        valid_labels = valid_folds[CFG.target_col].values\n",
    "        \n",
    "        if isinstance(scheduler, ReduceLROnPlateau):\n",
    "            scheduler.step(avg_val_loss)\n",
    "        elif isinstance(scheduler, CosineAnnealingLR):\n",
    "            scheduler.step()\n",
    "        elif isinstance(scheduler, CosineAnnealingWarmRestarts):\n",
    "            scheduler.step()\n",
    "\n",
    "        # scoring\n",
    "        score = get_score(valid_labels, preds.argmax(1))\n",
    "\n",
    "        elapsed = time.time() - start_time\n",
    "\n",
    "        LOGGER.info(f'Epoch {epoch+1} - avg_train_loss: {avg_loss:.4f}  avg_val_loss: {avg_val_loss:.4f}  time: {elapsed:.0f}s')\n",
    "        LOGGER.info(f'Epoch {epoch+1} - Accuracy: {score}')\n",
    "\n",
    "        if score > best_score:\n",
    "            print('YES')\n",
    "            best_score = score\n",
    "            LOGGER.info(f'Epoch {epoch+1} - Save Best Score: {best_score:.4f} Model')\n",
    "            torch.save({'model': model.state_dict(), \n",
    "                        'preds': preds,\n",
    "                        'optimizer': optimizer.state_dict(),\n",
    "                        'scheduler': scheduler.state_dict()},\n",
    "                        OUTPUT_DIR+f'{CFG.model_name}_fold{fold}_best.pth')\n",
    "    \n",
    "    check_point = torch.load(OUTPUT_DIR+f'{CFG.model_name}_fold{fold}_best.pth')\n",
    "    valid_folds[[str(c) for c in range(CFG.target_size)]] = check_point['preds']\n",
    "    valid_folds['preds'] = check_point['preds'].argmax(1)\n",
    "\n",
    "    return valid_folds"
   ]
  },
  {
   "cell_type": "code",
   "execution_count": 31,
   "metadata": {
    "execution": {
     "iopub.execute_input": "2022-05-06T16:35:56.084792Z",
     "iopub.status.busy": "2022-05-06T16:35:56.083982Z",
     "iopub.status.idle": "2022-05-06T16:35:56.087968Z",
     "shell.execute_reply": "2022-05-06T16:35:56.087390Z",
     "shell.execute_reply.started": "2022-05-06T16:05:36.228922Z"
    },
    "papermill": {
     "duration": 0.054643,
     "end_time": "2022-05-06T16:35:56.088083",
     "exception": false,
     "start_time": "2022-05-06T16:35:56.033440",
     "status": "completed"
    },
    "tags": []
   },
   "outputs": [],
   "source": [
    "# ====================================================\n",
    "# main\n",
    "# ====================================================\n",
    "def main():\n",
    "    def get_result(result_df):\n",
    "        preds = result_df['preds'].values\n",
    "        labels = result_df[CFG.target_col].values\n",
    "        score = get_score(labels, preds)\n",
    "        LOGGER.info(f'Score: {score:<.5f}')\n",
    "    \n",
    "    if CFG.train: \n",
    "        # train \n",
    "        oof_df = pd.DataFrame()\n",
    "        for fold in range(CFG.n_fold):\n",
    "            if fold in CFG.trn_fold:\n",
    "                _oof_df = train_loop(folds, fold)\n",
    "                oof_df = pd.concat([oof_df, _oof_df])\n",
    "                LOGGER.info(f\"========== fold: {fold} result ==========\")\n",
    "                get_result(_oof_df)\n",
    "        # CV result\n",
    "        LOGGER.info(f\"========== CV ==========\")\n",
    "        get_result(oof_df)\n",
    "        # save result\n",
    "        oof_df.to_csv(OUTPUT_DIR+'oof_df.csv', index=False)"
   ]
  },
  {
   "cell_type": "code",
   "execution_count": 32,
   "metadata": {
    "execution": {
     "iopub.execute_input": "2022-05-06T16:35:56.231385Z",
     "iopub.status.busy": "2022-05-06T16:35:56.230204Z",
     "iopub.status.idle": "2022-05-06T17:53:52.395818Z",
     "shell.execute_reply": "2022-05-06T17:53:52.388488Z"
    },
    "papermill": {
     "duration": 4676.225781,
     "end_time": "2022-05-06T17:53:52.395955",
     "exception": false,
     "start_time": "2022-05-06T16:35:56.170174",
     "status": "completed"
    },
    "tags": []
   },
   "outputs": [
    {
     "name": "stderr",
     "output_type": "stream",
     "text": [
      "========== fold: 0 training ==========\n",
      "Criterion: LabelSmoothingLoss()\n",
      "  0%|          | 1/232 [00:05<21:57,  5.70s/it]"
     ]
    },
    {
     "name": "stdout",
     "output_type": "stream",
     "text": [
      "Epoch: [1][0/232] Data 2.748 (2.748) Elapsed 0m 5s (remain 22m 23s) Loss: 0.6739(0.6739) Grad: 2.1483  \n"
     ]
    },
    {
     "name": "stderr",
     "output_type": "stream",
     "text": [
      "100%|██████████| 232/232 [03:03<00:00,  1.27it/s]"
     ]
    },
    {
     "name": "stdout",
     "output_type": "stream",
     "text": [
      "Epoch: [1][231/232] Data 0.001 (0.017) Elapsed 3m 3s (remain 0m 0s) Loss: 0.6634(0.5326) Grad: 1.9232  \n"
     ]
    },
    {
     "name": "stderr",
     "output_type": "stream",
     "text": [
      "\n"
     ]
    },
    {
     "name": "stdout",
     "output_type": "stream",
     "text": [
      "EVAL: [0/58] Data 2.029 (2.029) Elapsed 0m 2s (remain 2m 4s) Loss: 0.5577(0.5577) \n"
     ]
    },
    {
     "name": "stderr",
     "output_type": "stream",
     "text": [
      "Epoch 1 - avg_train_loss: 0.5326  avg_val_loss: 0.4523  time: 215s\n",
      "Epoch 1 - Accuracy: 0.8344827586206897\n",
      "Epoch 1 - Save Best Score: 0.8345 Model\n"
     ]
    },
    {
     "name": "stdout",
     "output_type": "stream",
     "text": [
      "EVAL: [57/58] Data 0.000 (0.397) Elapsed 0m 31s (remain 0m 0s) Loss: 0.4583(0.4523) \n",
      "YES\n"
     ]
    },
    {
     "name": "stderr",
     "output_type": "stream",
     "text": [
      "  0%|          | 1/232 [00:03<12:17,  3.19s/it]"
     ]
    },
    {
     "name": "stdout",
     "output_type": "stream",
     "text": [
      "Epoch: [2][0/232] Data 2.205 (2.205) Elapsed 0m 3s (remain 12m 42s) Loss: 0.3192(0.3192) Grad: 1.4941  \n"
     ]
    },
    {
     "name": "stderr",
     "output_type": "stream",
     "text": [
      "100%|██████████| 232/232 [02:48<00:00,  1.37it/s]"
     ]
    },
    {
     "name": "stdout",
     "output_type": "stream",
     "text": [
      "Epoch: [2][231/232] Data 0.004 (0.015) Elapsed 2m 48s (remain 0m 0s) Loss: 0.3171(0.4054) Grad: 0.8224  \n"
     ]
    },
    {
     "name": "stderr",
     "output_type": "stream",
     "text": [
      "\n"
     ]
    },
    {
     "name": "stdout",
     "output_type": "stream",
     "text": [
      "EVAL: [0/58] Data 2.230 (2.230) Elapsed 0m 2s (remain 2m 16s) Loss: 0.5137(0.5137) \n"
     ]
    },
    {
     "name": "stderr",
     "output_type": "stream",
     "text": [
      "Epoch 2 - avg_train_loss: 0.4054  avg_val_loss: 0.4258  time: 200s\n",
      "Epoch 2 - Accuracy: 0.85\n",
      "Epoch 2 - Save Best Score: 0.8500 Model\n"
     ]
    },
    {
     "name": "stdout",
     "output_type": "stream",
     "text": [
      "EVAL: [57/58] Data 0.000 (0.396) Elapsed 0m 31s (remain 0m 0s) Loss: 0.5271(0.4258) \n",
      "YES\n"
     ]
    },
    {
     "name": "stderr",
     "output_type": "stream",
     "text": [
      "  0%|          | 1/232 [00:04<15:24,  4.00s/it]"
     ]
    },
    {
     "name": "stdout",
     "output_type": "stream",
     "text": [
      "Epoch: [3][0/232] Data 2.983 (2.983) Elapsed 0m 4s (remain 15m 56s) Loss: 0.3888(0.3888) Grad: 2.0292  \n"
     ]
    },
    {
     "name": "stderr",
     "output_type": "stream",
     "text": [
      "100%|██████████| 232/232 [02:50<00:00,  1.36it/s]"
     ]
    },
    {
     "name": "stdout",
     "output_type": "stream",
     "text": [
      "Epoch: [3][231/232] Data 0.001 (0.018) Elapsed 2m 50s (remain 0m 0s) Loss: 0.2168(0.2981) Grad: 0.5379  \n"
     ]
    },
    {
     "name": "stderr",
     "output_type": "stream",
     "text": [
      "\n"
     ]
    },
    {
     "name": "stdout",
     "output_type": "stream",
     "text": [
      "EVAL: [0/58] Data 2.296 (2.296) Elapsed 0m 2s (remain 2m 24s) Loss: 0.5410(0.5410) \n"
     ]
    },
    {
     "name": "stderr",
     "output_type": "stream",
     "text": [
      "Epoch 3 - avg_train_loss: 0.2981  avg_val_loss: 0.4219  time: 203s\n",
      "Epoch 3 - Accuracy: 0.8689655172413793\n",
      "Epoch 3 - Save Best Score: 0.8690 Model\n"
     ]
    },
    {
     "name": "stdout",
     "output_type": "stream",
     "text": [
      "EVAL: [57/58] Data 0.000 (0.401) Elapsed 0m 31s (remain 0m 0s) Loss: 0.4577(0.4219) \n",
      "YES\n"
     ]
    },
    {
     "name": "stderr",
     "output_type": "stream",
     "text": [
      "  0%|          | 1/232 [00:03<13:41,  3.56s/it]"
     ]
    },
    {
     "name": "stdout",
     "output_type": "stream",
     "text": [
      "Epoch: [4][0/232] Data 2.627 (2.627) Elapsed 0m 3s (remain 14m 12s) Loss: 0.2336(0.2336) Grad: 0.8933  \n"
     ]
    },
    {
     "name": "stderr",
     "output_type": "stream",
     "text": [
      "100%|██████████| 232/232 [02:49<00:00,  1.37it/s]"
     ]
    },
    {
     "name": "stdout",
     "output_type": "stream",
     "text": [
      "Epoch: [4][231/232] Data 0.001 (0.017) Elapsed 2m 49s (remain 0m 0s) Loss: 0.2377(0.2443) Grad: 2.0083  \n"
     ]
    },
    {
     "name": "stderr",
     "output_type": "stream",
     "text": [
      "\n"
     ]
    },
    {
     "name": "stdout",
     "output_type": "stream",
     "text": [
      "EVAL: [0/58] Data 2.389 (2.389) Elapsed 0m 2s (remain 2m 34s) Loss: 0.6112(0.6112) \n"
     ]
    },
    {
     "name": "stderr",
     "output_type": "stream",
     "text": [
      "Epoch 4 - avg_train_loss: 0.2443  avg_val_loss: 0.4271  time: 201s\n",
      "Epoch 4 - Accuracy: 0.8672413793103448\n"
     ]
    },
    {
     "name": "stdout",
     "output_type": "stream",
     "text": [
      "EVAL: [57/58] Data 0.000 (0.394) Elapsed 0m 31s (remain 0m 0s) Loss: 0.5295(0.4271) \n"
     ]
    },
    {
     "name": "stderr",
     "output_type": "stream",
     "text": [
      "  0%|          | 1/232 [00:03<12:12,  3.17s/it]"
     ]
    },
    {
     "name": "stdout",
     "output_type": "stream",
     "text": [
      "Epoch: [5][0/232] Data 2.167 (2.167) Elapsed 0m 3s (remain 12m 59s) Loss: 0.2022(0.2022) Grad: 0.1638  \n"
     ]
    },
    {
     "name": "stderr",
     "output_type": "stream",
     "text": [
      "100%|██████████| 232/232 [02:50<00:00,  1.36it/s]"
     ]
    },
    {
     "name": "stdout",
     "output_type": "stream",
     "text": [
      "Epoch: [5][231/232] Data 0.001 (0.015) Elapsed 2m 50s (remain 0m 0s) Loss: 0.2141(0.2207) Grad: 0.6033  \n"
     ]
    },
    {
     "name": "stderr",
     "output_type": "stream",
     "text": [
      "\n"
     ]
    },
    {
     "name": "stdout",
     "output_type": "stream",
     "text": [
      "EVAL: [0/58] Data 2.216 (2.216) Elapsed 0m 2s (remain 2m 16s) Loss: 0.4648(0.4648) \n"
     ]
    },
    {
     "name": "stderr",
     "output_type": "stream",
     "text": [
      "Epoch 5 - avg_train_loss: 0.2207  avg_val_loss: 0.4184  time: 202s\n",
      "Epoch 5 - Accuracy: 0.8810344827586207\n",
      "Epoch 5 - Save Best Score: 0.8810 Model\n"
     ]
    },
    {
     "name": "stdout",
     "output_type": "stream",
     "text": [
      "EVAL: [57/58] Data 0.000 (0.398) Elapsed 0m 31s (remain 0m 0s) Loss: 0.4585(0.4184) \n",
      "YES\n"
     ]
    },
    {
     "name": "stderr",
     "output_type": "stream",
     "text": [
      "========== fold: 0 result ==========\n",
      "Score: 0.88103\n",
      "========== fold: 1 training ==========\n",
      "Criterion: LabelSmoothingLoss()\n",
      "  0%|          | 1/232 [00:03<14:16,  3.71s/it]"
     ]
    },
    {
     "name": "stdout",
     "output_type": "stream",
     "text": [
      "Epoch: [1][0/232] Data 2.603 (2.603) Elapsed 0m 3s (remain 14m 45s) Loss: 0.6936(0.6936) Grad: 2.1913  \n"
     ]
    },
    {
     "name": "stderr",
     "output_type": "stream",
     "text": [
      "100%|██████████| 232/232 [03:06<00:00,  1.25it/s]"
     ]
    },
    {
     "name": "stdout",
     "output_type": "stream",
     "text": [
      "Epoch: [1][231/232] Data 0.002 (0.017) Elapsed 3m 6s (remain 0m 0s) Loss: 0.4568(0.5238) Grad: 1.2159  \n"
     ]
    },
    {
     "name": "stderr",
     "output_type": "stream",
     "text": [
      "\n"
     ]
    },
    {
     "name": "stdout",
     "output_type": "stream",
     "text": [
      "EVAL: [0/58] Data 2.500 (2.500) Elapsed 0m 2s (remain 2m 34s) Loss: 0.5631(0.5631) \n"
     ]
    },
    {
     "name": "stderr",
     "output_type": "stream",
     "text": [
      "Epoch 1 - avg_train_loss: 0.5238  avg_val_loss: 0.4728  time: 223s\n",
      "Epoch 1 - Accuracy: 0.8362068965517241\n",
      "Epoch 1 - Save Best Score: 0.8362 Model\n"
     ]
    },
    {
     "name": "stdout",
     "output_type": "stream",
     "text": [
      "EVAL: [57/58] Data 0.000 (0.480) Elapsed 0m 36s (remain 0m 0s) Loss: 0.5073(0.4728) \n",
      "YES\n"
     ]
    },
    {
     "name": "stderr",
     "output_type": "stream",
     "text": [
      "  0%|          | 1/232 [00:03<13:36,  3.54s/it]"
     ]
    },
    {
     "name": "stdout",
     "output_type": "stream",
     "text": [
      "Epoch: [2][0/232] Data 2.718 (2.718) Elapsed 0m 3s (remain 14m 21s) Loss: 0.4106(0.4106) Grad: 0.9537  \n"
     ]
    },
    {
     "name": "stderr",
     "output_type": "stream",
     "text": [
      "100%|██████████| 232/232 [03:08<00:00,  1.23it/s]"
     ]
    },
    {
     "name": "stdout",
     "output_type": "stream",
     "text": [
      "Epoch: [2][231/232] Data 0.001 (0.017) Elapsed 3m 8s (remain 0m 0s) Loss: 0.2384(0.3961) Grad: 0.5142  \n"
     ]
    },
    {
     "name": "stderr",
     "output_type": "stream",
     "text": [
      "\n"
     ]
    },
    {
     "name": "stdout",
     "output_type": "stream",
     "text": [
      "EVAL: [0/58] Data 2.561 (2.561) Elapsed 0m 2s (remain 2m 38s) Loss: 0.4388(0.4388) \n"
     ]
    },
    {
     "name": "stderr",
     "output_type": "stream",
     "text": [
      "Epoch 2 - avg_train_loss: 0.3961  avg_val_loss: 0.4322  time: 225s\n",
      "Epoch 2 - Accuracy: 0.8551724137931035\n",
      "Epoch 2 - Save Best Score: 0.8552 Model\n"
     ]
    },
    {
     "name": "stdout",
     "output_type": "stream",
     "text": [
      "EVAL: [57/58] Data 0.000 (0.481) Elapsed 0m 36s (remain 0m 0s) Loss: 0.4125(0.4322) \n",
      "YES\n"
     ]
    },
    {
     "name": "stderr",
     "output_type": "stream",
     "text": [
      "  0%|          | 1/232 [00:03<13:08,  3.41s/it]"
     ]
    },
    {
     "name": "stdout",
     "output_type": "stream",
     "text": [
      "Epoch: [3][0/232] Data 2.330 (2.330) Elapsed 0m 3s (remain 13m 44s) Loss: 0.2320(0.2320) Grad: 0.4907  \n"
     ]
    },
    {
     "name": "stderr",
     "output_type": "stream",
     "text": [
      "100%|██████████| 232/232 [02:51<00:00,  1.35it/s]"
     ]
    },
    {
     "name": "stdout",
     "output_type": "stream",
     "text": [
      "Epoch: [3][231/232] Data 0.001 (0.016) Elapsed 2m 52s (remain 0m 0s) Loss: 0.3675(0.2883) Grad: 1.6100  \n"
     ]
    },
    {
     "name": "stderr",
     "output_type": "stream",
     "text": [
      "\n"
     ]
    },
    {
     "name": "stdout",
     "output_type": "stream",
     "text": [
      "EVAL: [0/58] Data 2.311 (2.311) Elapsed 0m 2s (remain 2m 22s) Loss: 0.3548(0.3548) \n"
     ]
    },
    {
     "name": "stderr",
     "output_type": "stream",
     "text": [
      "Epoch 3 - avg_train_loss: 0.2883  avg_val_loss: 0.4373  time: 203s\n",
      "Epoch 3 - Accuracy: 0.8775862068965518\n",
      "Epoch 3 - Save Best Score: 0.8776 Model\n"
     ]
    },
    {
     "name": "stdout",
     "output_type": "stream",
     "text": [
      "EVAL: [57/58] Data 0.000 (0.371) Elapsed 0m 30s (remain 0m 0s) Loss: 0.3343(0.4373) \n",
      "YES\n"
     ]
    },
    {
     "name": "stderr",
     "output_type": "stream",
     "text": [
      "  0%|          | 1/232 [00:03<13:53,  3.61s/it]"
     ]
    },
    {
     "name": "stdout",
     "output_type": "stream",
     "text": [
      "Epoch: [4][0/232] Data 2.647 (2.647) Elapsed 0m 3s (remain 14m 42s) Loss: 0.2669(0.2669) Grad: 1.2664  \n"
     ]
    },
    {
     "name": "stderr",
     "output_type": "stream",
     "text": [
      "100%|██████████| 232/232 [02:52<00:00,  1.34it/s]"
     ]
    },
    {
     "name": "stdout",
     "output_type": "stream",
     "text": [
      "Epoch: [4][231/232] Data 0.002 (0.017) Elapsed 2m 52s (remain 0m 0s) Loss: 0.2340(0.2386) Grad: 1.1505  \n"
     ]
    },
    {
     "name": "stderr",
     "output_type": "stream",
     "text": [
      "\n"
     ]
    },
    {
     "name": "stdout",
     "output_type": "stream",
     "text": [
      "EVAL: [0/58] Data 3.103 (3.103) Elapsed 0m 3s (remain 3m 7s) Loss: 0.3906(0.3906) \n"
     ]
    },
    {
     "name": "stderr",
     "output_type": "stream",
     "text": [
      "Epoch 4 - avg_train_loss: 0.2386  avg_val_loss: 0.4934  time: 204s\n",
      "Epoch 4 - Accuracy: 0.8706896551724138\n"
     ]
    },
    {
     "name": "stdout",
     "output_type": "stream",
     "text": [
      "EVAL: [57/58] Data 0.000 (0.380) Elapsed 0m 30s (remain 0m 0s) Loss: 0.3518(0.4934) \n"
     ]
    },
    {
     "name": "stderr",
     "output_type": "stream",
     "text": [
      "  0%|          | 1/232 [00:04<18:01,  4.68s/it]"
     ]
    },
    {
     "name": "stdout",
     "output_type": "stream",
     "text": [
      "Epoch: [5][0/232] Data 2.697 (2.697) Elapsed 0m 4s (remain 18m 47s) Loss: 0.2332(0.2332) Grad: 1.3582  \n"
     ]
    },
    {
     "name": "stderr",
     "output_type": "stream",
     "text": [
      "100%|██████████| 232/232 [02:53<00:00,  1.33it/s]"
     ]
    },
    {
     "name": "stdout",
     "output_type": "stream",
     "text": [
      "Epoch: [5][231/232] Data 0.003 (0.017) Elapsed 2m 54s (remain 0m 0s) Loss: 0.2073(0.2149) Grad: 0.2952  \n"
     ]
    },
    {
     "name": "stderr",
     "output_type": "stream",
     "text": [
      "\n"
     ]
    },
    {
     "name": "stdout",
     "output_type": "stream",
     "text": [
      "EVAL: [0/58] Data 2.079 (2.079) Elapsed 0m 2s (remain 2m 13s) Loss: 0.5353(0.5353) \n"
     ]
    },
    {
     "name": "stderr",
     "output_type": "stream",
     "text": [
      "Epoch 5 - avg_train_loss: 0.2149  avg_val_loss: 0.4517  time: 205s\n",
      "Epoch 5 - Accuracy: 0.85\n"
     ]
    },
    {
     "name": "stdout",
     "output_type": "stream",
     "text": [
      "EVAL: [57/58] Data 0.010 (0.380) Elapsed 0m 30s (remain 0m 0s) Loss: 0.6334(0.4517) \n"
     ]
    },
    {
     "name": "stderr",
     "output_type": "stream",
     "text": [
      "========== fold: 1 result ==========\n",
      "Score: 0.87759\n",
      "========== fold: 2 training ==========\n",
      "Criterion: LabelSmoothingLoss()\n",
      "  0%|          | 1/232 [00:02<10:51,  2.82s/it]"
     ]
    },
    {
     "name": "stdout",
     "output_type": "stream",
     "text": [
      "Epoch: [1][0/232] Data 1.878 (1.878) Elapsed 0m 2s (remain 11m 18s) Loss: 0.7019(0.7019) Grad: 1.4383  \n"
     ]
    },
    {
     "name": "stderr",
     "output_type": "stream",
     "text": [
      "100%|██████████| 232/232 [02:25<00:00,  1.59it/s]"
     ]
    },
    {
     "name": "stdout",
     "output_type": "stream",
     "text": [
      "Epoch: [1][231/232] Data 0.001 (0.010) Elapsed 2m 25s (remain 0m 0s) Loss: 0.4545(0.5305) Grad: 1.1540  \n"
     ]
    },
    {
     "name": "stderr",
     "output_type": "stream",
     "text": [
      "\n"
     ]
    },
    {
     "name": "stdout",
     "output_type": "stream",
     "text": [
      "EVAL: [0/58] Data 2.003 (2.003) Elapsed 0m 2s (remain 2m 9s) Loss: 0.4040(0.4040) \n"
     ]
    },
    {
     "name": "stderr",
     "output_type": "stream",
     "text": [
      "Epoch 1 - avg_train_loss: 0.5305  avg_val_loss: 0.4598  time: 170s\n",
      "Epoch 1 - Accuracy: 0.8155172413793104\n",
      "Epoch 1 - Save Best Score: 0.8155 Model\n"
     ]
    },
    {
     "name": "stdout",
     "output_type": "stream",
     "text": [
      "EVAL: [57/58] Data 0.000 (0.245) Elapsed 0m 23s (remain 0m 0s) Loss: 0.5536(0.4598) \n",
      "YES\n"
     ]
    },
    {
     "name": "stderr",
     "output_type": "stream",
     "text": [
      "  0%|          | 1/232 [00:03<11:34,  3.01s/it]"
     ]
    },
    {
     "name": "stdout",
     "output_type": "stream",
     "text": [
      "Epoch: [2][0/232] Data 1.815 (1.815) Elapsed 0m 3s (remain 12m 19s) Loss: 0.3645(0.3645) Grad: 1.4577  \n"
     ]
    },
    {
     "name": "stderr",
     "output_type": "stream",
     "text": [
      "100%|██████████| 232/232 [02:26<00:00,  1.59it/s]"
     ]
    },
    {
     "name": "stdout",
     "output_type": "stream",
     "text": [
      "Epoch: [2][231/232] Data 0.002 (0.010) Elapsed 2m 26s (remain 0m 0s) Loss: 0.3952(0.4066) Grad: 2.4684  \n"
     ]
    },
    {
     "name": "stderr",
     "output_type": "stream",
     "text": [
      "\n"
     ]
    },
    {
     "name": "stdout",
     "output_type": "stream",
     "text": [
      "EVAL: [0/58] Data 1.933 (1.933) Elapsed 0m 2s (remain 1m 59s) Loss: 0.2950(0.2950) \n"
     ]
    },
    {
     "name": "stderr",
     "output_type": "stream",
     "text": [
      "Epoch 2 - avg_train_loss: 0.4066  avg_val_loss: 0.4470  time: 170s\n",
      "Epoch 2 - Accuracy: 0.8379310344827586\n",
      "Epoch 2 - Save Best Score: 0.8379 Model\n"
     ]
    },
    {
     "name": "stdout",
     "output_type": "stream",
     "text": [
      "EVAL: [57/58] Data 0.000 (0.232) Elapsed 0m 22s (remain 0m 0s) Loss: 0.5485(0.4470) \n",
      "YES\n"
     ]
    },
    {
     "name": "stderr",
     "output_type": "stream",
     "text": [
      "  0%|          | 1/232 [00:03<12:34,  3.27s/it]"
     ]
    },
    {
     "name": "stdout",
     "output_type": "stream",
     "text": [
      "Epoch: [3][0/232] Data 2.180 (2.180) Elapsed 0m 3s (remain 13m 28s) Loss: 0.3740(0.3740) Grad: 2.4960  \n"
     ]
    },
    {
     "name": "stderr",
     "output_type": "stream",
     "text": [
      "100%|██████████| 232/232 [02:27<00:00,  1.58it/s]"
     ]
    },
    {
     "name": "stdout",
     "output_type": "stream",
     "text": [
      "Epoch: [3][231/232] Data 0.001 (0.012) Elapsed 2m 27s (remain 0m 0s) Loss: 0.2105(0.3025) Grad: 0.5326  \n"
     ]
    },
    {
     "name": "stderr",
     "output_type": "stream",
     "text": [
      "\n"
     ]
    },
    {
     "name": "stdout",
     "output_type": "stream",
     "text": [
      "EVAL: [0/58] Data 2.001 (2.001) Elapsed 0m 2s (remain 2m 14s) Loss: 0.3409(0.3409) \n"
     ]
    },
    {
     "name": "stderr",
     "output_type": "stream",
     "text": [
      "Epoch 3 - avg_train_loss: 0.3025  avg_val_loss: 0.5166  time: 171s\n",
      "Epoch 3 - Accuracy: 0.7844827586206896\n"
     ]
    },
    {
     "name": "stdout",
     "output_type": "stream",
     "text": [
      "EVAL: [57/58] Data 0.000 (0.239) Elapsed 0m 23s (remain 0m 0s) Loss: 0.5963(0.5166) \n"
     ]
    },
    {
     "name": "stderr",
     "output_type": "stream",
     "text": [
      "  0%|          | 1/232 [00:03<13:38,  3.54s/it]"
     ]
    },
    {
     "name": "stdout",
     "output_type": "stream",
     "text": [
      "Epoch: [4][0/232] Data 2.409 (2.409) Elapsed 0m 3s (remain 14m 22s) Loss: 0.2168(0.2168) Grad: 0.4495  \n"
     ]
    },
    {
     "name": "stderr",
     "output_type": "stream",
     "text": [
      "100%|██████████| 232/232 [02:28<00:00,  1.57it/s]"
     ]
    },
    {
     "name": "stdout",
     "output_type": "stream",
     "text": [
      "Epoch: [4][231/232] Data 0.001 (0.013) Elapsed 2m 28s (remain 0m 0s) Loss: 0.2057(0.2365) Grad: 0.4172  \n"
     ]
    },
    {
     "name": "stderr",
     "output_type": "stream",
     "text": [
      "\n"
     ]
    },
    {
     "name": "stdout",
     "output_type": "stream",
     "text": [
      "EVAL: [0/58] Data 1.839 (1.839) Elapsed 0m 1s (remain 1m 52s) Loss: 0.2106(0.2106) \n"
     ]
    },
    {
     "name": "stderr",
     "output_type": "stream",
     "text": [
      "Epoch 4 - avg_train_loss: 0.2365  avg_val_loss: 0.4904  time: 171s\n",
      "Epoch 4 - Accuracy: 0.8258620689655173\n"
     ]
    },
    {
     "name": "stdout",
     "output_type": "stream",
     "text": [
      "EVAL: [57/58] Data 0.000 (0.232) Elapsed 0m 22s (remain 0m 0s) Loss: 0.7048(0.4904) \n"
     ]
    },
    {
     "name": "stderr",
     "output_type": "stream",
     "text": [
      "  0%|          | 1/232 [00:02<11:05,  2.88s/it]"
     ]
    },
    {
     "name": "stdout",
     "output_type": "stream",
     "text": [
      "Epoch: [5][0/232] Data 1.776 (1.776) Elapsed 0m 3s (remain 11m 36s) Loss: 0.2457(0.2457) Grad: 1.6114  \n"
     ]
    },
    {
     "name": "stderr",
     "output_type": "stream",
     "text": [
      "100%|██████████| 232/232 [02:28<00:00,  1.57it/s]"
     ]
    },
    {
     "name": "stdout",
     "output_type": "stream",
     "text": [
      "Epoch: [5][231/232] Data 0.001 (0.010) Elapsed 2m 28s (remain 0m 0s) Loss: 0.2010(0.2169) Grad: 0.2109  \n"
     ]
    },
    {
     "name": "stderr",
     "output_type": "stream",
     "text": [
      "\n"
     ]
    },
    {
     "name": "stdout",
     "output_type": "stream",
     "text": [
      "EVAL: [0/58] Data 1.719 (1.719) Elapsed 0m 1s (remain 1m 50s) Loss: 0.2084(0.2084) \n"
     ]
    },
    {
     "name": "stderr",
     "output_type": "stream",
     "text": [
      "Epoch 5 - avg_train_loss: 0.2169  avg_val_loss: 0.5118  time: 171s\n",
      "Epoch 5 - Accuracy: 0.8189655172413793\n"
     ]
    },
    {
     "name": "stdout",
     "output_type": "stream",
     "text": [
      "EVAL: [57/58] Data 0.000 (0.237) Elapsed 0m 22s (remain 0m 0s) Loss: 0.7656(0.5118) \n"
     ]
    },
    {
     "name": "stderr",
     "output_type": "stream",
     "text": [
      "========== fold: 2 result ==========\n",
      "Score: 0.83793\n",
      "========== fold: 3 training ==========\n",
      "Criterion: LabelSmoothingLoss()\n",
      "  0%|          | 1/232 [00:02<10:09,  2.64s/it]"
     ]
    },
    {
     "name": "stdout",
     "output_type": "stream",
     "text": [
      "Epoch: [1][0/232] Data 1.574 (1.574) Elapsed 0m 2s (remain 10m 40s) Loss: 0.6492(0.6492) Grad: 1.2809  \n"
     ]
    },
    {
     "name": "stderr",
     "output_type": "stream",
     "text": [
      "100%|██████████| 232/232 [02:28<00:00,  1.56it/s]"
     ]
    },
    {
     "name": "stdout",
     "output_type": "stream",
     "text": [
      "Epoch: [1][231/232] Data 0.001 (0.009) Elapsed 2m 28s (remain 0m 0s) Loss: 0.7008(0.5268) Grad: 3.1369  \n"
     ]
    },
    {
     "name": "stderr",
     "output_type": "stream",
     "text": [
      "\n"
     ]
    },
    {
     "name": "stdout",
     "output_type": "stream",
     "text": [
      "EVAL: [0/58] Data 2.007 (2.007) Elapsed 0m 2s (remain 2m 8s) Loss: 0.4772(0.4772) \n"
     ]
    },
    {
     "name": "stderr",
     "output_type": "stream",
     "text": [
      "Epoch 1 - avg_train_loss: 0.5268  avg_val_loss: 0.4552  time: 172s\n",
      "Epoch 1 - Accuracy: 0.853448275862069\n",
      "Epoch 1 - Save Best Score: 0.8534 Model\n"
     ]
    },
    {
     "name": "stdout",
     "output_type": "stream",
     "text": [
      "EVAL: [57/58] Data 0.000 (0.230) Elapsed 0m 22s (remain 0m 0s) Loss: 0.3008(0.4552) \n",
      "YES\n"
     ]
    },
    {
     "name": "stderr",
     "output_type": "stream",
     "text": [
      "  0%|          | 1/232 [00:02<10:55,  2.84s/it]"
     ]
    },
    {
     "name": "stdout",
     "output_type": "stream",
     "text": [
      "Epoch: [2][0/232] Data 1.840 (1.840) Elapsed 0m 3s (remain 11m 43s) Loss: 0.3944(0.3944) Grad: 0.7605  \n"
     ]
    },
    {
     "name": "stderr",
     "output_type": "stream",
     "text": [
      "100%|██████████| 232/232 [02:29<00:00,  1.55it/s]"
     ]
    },
    {
     "name": "stdout",
     "output_type": "stream",
     "text": [
      "Epoch: [2][231/232] Data 0.001 (0.011) Elapsed 2m 29s (remain 0m 0s) Loss: 0.3697(0.3909) Grad: 1.4400  \n"
     ]
    },
    {
     "name": "stderr",
     "output_type": "stream",
     "text": [
      "\n"
     ]
    },
    {
     "name": "stdout",
     "output_type": "stream",
     "text": [
      "EVAL: [0/58] Data 1.811 (1.811) Elapsed 0m 2s (remain 1m 57s) Loss: 0.4175(0.4175) \n"
     ]
    },
    {
     "name": "stderr",
     "output_type": "stream",
     "text": [
      "Epoch 2 - avg_train_loss: 0.3909  avg_val_loss: 0.4289  time: 172s\n",
      "Epoch 2 - Accuracy: 0.8620689655172413\n",
      "Epoch 2 - Save Best Score: 0.8621 Model\n"
     ]
    },
    {
     "name": "stdout",
     "output_type": "stream",
     "text": [
      "EVAL: [57/58] Data 0.057 (0.230) Elapsed 0m 22s (remain 0m 0s) Loss: 0.2711(0.4289) \n",
      "YES\n"
     ]
    },
    {
     "name": "stderr",
     "output_type": "stream",
     "text": [
      "  0%|          | 1/232 [00:02<11:07,  2.89s/it]"
     ]
    },
    {
     "name": "stdout",
     "output_type": "stream",
     "text": [
      "Epoch: [3][0/232] Data 1.746 (1.746) Elapsed 0m 3s (remain 11m 45s) Loss: 0.2491(0.2491) Grad: 0.8037  \n"
     ]
    },
    {
     "name": "stderr",
     "output_type": "stream",
     "text": [
      "100%|██████████| 232/232 [02:29<00:00,  1.55it/s]"
     ]
    },
    {
     "name": "stdout",
     "output_type": "stream",
     "text": [
      "Epoch: [3][231/232] Data 0.001 (0.011) Elapsed 2m 29s (remain 0m 0s) Loss: 0.3062(0.2865) Grad: 2.1852  \n"
     ]
    },
    {
     "name": "stderr",
     "output_type": "stream",
     "text": [
      "\n"
     ]
    },
    {
     "name": "stdout",
     "output_type": "stream",
     "text": [
      "EVAL: [0/58] Data 2.133 (2.133) Elapsed 0m 2s (remain 2m 14s) Loss: 0.4778(0.4778) \n"
     ]
    },
    {
     "name": "stderr",
     "output_type": "stream",
     "text": [
      "Epoch 3 - avg_train_loss: 0.2865  avg_val_loss: 0.4685  time: 173s\n",
      "Epoch 3 - Accuracy: 0.8568965517241379\n"
     ]
    },
    {
     "name": "stdout",
     "output_type": "stream",
     "text": [
      "EVAL: [57/58] Data 0.000 (0.241) Elapsed 0m 22s (remain 0m 0s) Loss: 0.2121(0.4685) \n"
     ]
    },
    {
     "name": "stderr",
     "output_type": "stream",
     "text": [
      "  0%|          | 1/232 [00:02<11:08,  2.89s/it]"
     ]
    },
    {
     "name": "stdout",
     "output_type": "stream",
     "text": [
      "Epoch: [4][0/232] Data 1.628 (1.628) Elapsed 0m 3s (remain 11m 44s) Loss: 0.2287(0.2287) Grad: 0.9840  \n"
     ]
    },
    {
     "name": "stderr",
     "output_type": "stream",
     "text": [
      "100%|██████████| 232/232 [02:29<00:00,  1.55it/s]"
     ]
    },
    {
     "name": "stdout",
     "output_type": "stream",
     "text": [
      "Epoch: [4][231/232] Data 0.002 (0.010) Elapsed 2m 29s (remain 0m 0s) Loss: 0.2038(0.2366) Grad: 0.2157  \n"
     ]
    },
    {
     "name": "stderr",
     "output_type": "stream",
     "text": [
      "\n"
     ]
    },
    {
     "name": "stdout",
     "output_type": "stream",
     "text": [
      "EVAL: [0/58] Data 1.715 (1.715) Elapsed 0m 1s (remain 1m 46s) Loss: 0.5450(0.5450) \n"
     ]
    },
    {
     "name": "stderr",
     "output_type": "stream",
     "text": [
      "Epoch 4 - avg_train_loss: 0.2366  avg_val_loss: 0.4732  time: 172s\n",
      "Epoch 4 - Accuracy: 0.8620689655172413\n"
     ]
    },
    {
     "name": "stdout",
     "output_type": "stream",
     "text": [
      "EVAL: [57/58] Data 0.000 (0.226) Elapsed 0m 21s (remain 0m 0s) Loss: 0.2030(0.4732) \n"
     ]
    },
    {
     "name": "stderr",
     "output_type": "stream",
     "text": [
      "  0%|          | 1/232 [00:03<14:25,  3.75s/it]"
     ]
    },
    {
     "name": "stdout",
     "output_type": "stream",
     "text": [
      "Epoch: [5][0/232] Data 2.343 (2.343) Elapsed 0m 3s (remain 15m 13s) Loss: 0.2039(0.2039) Grad: 0.1464  \n"
     ]
    },
    {
     "name": "stderr",
     "output_type": "stream",
     "text": [
      "100%|██████████| 232/232 [02:29<00:00,  1.56it/s]"
     ]
    },
    {
     "name": "stdout",
     "output_type": "stream",
     "text": [
      "Epoch: [5][231/232] Data 0.001 (0.013) Elapsed 2m 29s (remain 0m 0s) Loss: 0.2005(0.2122) Grad: 0.0880  \n"
     ]
    },
    {
     "name": "stderr",
     "output_type": "stream",
     "text": [
      "\n"
     ]
    },
    {
     "name": "stdout",
     "output_type": "stream",
     "text": [
      "EVAL: [0/58] Data 1.540 (1.540) Elapsed 0m 1s (remain 1m 36s) Loss: 0.5751(0.5751) \n"
     ]
    },
    {
     "name": "stderr",
     "output_type": "stream",
     "text": [
      "Epoch 5 - avg_train_loss: 0.2122  avg_val_loss: 0.4642  time: 172s\n",
      "Epoch 5 - Accuracy: 0.8603448275862069\n"
     ]
    },
    {
     "name": "stdout",
     "output_type": "stream",
     "text": [
      "EVAL: [57/58] Data 0.129 (0.232) Elapsed 0m 22s (remain 0m 0s) Loss: 0.2015(0.4642) \n"
     ]
    },
    {
     "name": "stderr",
     "output_type": "stream",
     "text": [
      "========== fold: 3 result ==========\n",
      "Score: 0.86207\n",
      "========== fold: 4 training ==========\n",
      "Criterion: LabelSmoothingLoss()\n",
      "  0%|          | 1/232 [00:03<13:28,  3.50s/it]"
     ]
    },
    {
     "name": "stdout",
     "output_type": "stream",
     "text": [
      "Epoch: [1][0/232] Data 1.854 (1.854) Elapsed 0m 3s (remain 14m 3s) Loss: 0.7045(0.7045) Grad: 2.4412  \n"
     ]
    },
    {
     "name": "stderr",
     "output_type": "stream",
     "text": [
      "100%|██████████| 232/232 [02:28<00:00,  1.57it/s]"
     ]
    },
    {
     "name": "stdout",
     "output_type": "stream",
     "text": [
      "Epoch: [1][231/232] Data 0.002 (0.010) Elapsed 2m 28s (remain 0m 0s) Loss: 0.3892(0.5235) Grad: 0.7593  \n"
     ]
    },
    {
     "name": "stderr",
     "output_type": "stream",
     "text": [
      "\n"
     ]
    },
    {
     "name": "stdout",
     "output_type": "stream",
     "text": [
      "EVAL: [0/58] Data 1.984 (1.984) Elapsed 0m 2s (remain 2m 5s) Loss: 0.3196(0.3196) \n"
     ]
    },
    {
     "name": "stderr",
     "output_type": "stream",
     "text": [
      "Epoch 1 - avg_train_loss: 0.5235  avg_val_loss: 0.4385  time: 171s\n",
      "Epoch 1 - Accuracy: 0.846551724137931\n",
      "Epoch 1 - Save Best Score: 0.8466 Model\n"
     ]
    },
    {
     "name": "stdout",
     "output_type": "stream",
     "text": [
      "EVAL: [57/58] Data 0.024 (0.218) Elapsed 0m 22s (remain 0m 0s) Loss: 0.5334(0.4385) \n",
      "YES\n"
     ]
    },
    {
     "name": "stderr",
     "output_type": "stream",
     "text": [
      "  0%|          | 1/232 [00:04<16:43,  4.34s/it]"
     ]
    },
    {
     "name": "stdout",
     "output_type": "stream",
     "text": [
      "Epoch: [2][0/232] Data 3.848 (3.848) Elapsed 0m 4s (remain 17m 32s) Loss: 0.4349(0.4349) Grad: 1.6975  \n"
     ]
    },
    {
     "name": "stderr",
     "output_type": "stream",
     "text": [
      "100%|██████████| 232/232 [02:28<00:00,  1.56it/s]"
     ]
    },
    {
     "name": "stdout",
     "output_type": "stream",
     "text": [
      "Epoch: [2][231/232] Data 0.001 (0.019) Elapsed 2m 28s (remain 0m 0s) Loss: 0.3847(0.3974) Grad: 2.4634  \n"
     ]
    },
    {
     "name": "stderr",
     "output_type": "stream",
     "text": [
      "\n"
     ]
    },
    {
     "name": "stdout",
     "output_type": "stream",
     "text": [
      "EVAL: [0/58] Data 2.219 (2.219) Elapsed 0m 2s (remain 2m 20s) Loss: 0.2524(0.2524) \n"
     ]
    },
    {
     "name": "stderr",
     "output_type": "stream",
     "text": [
      "Epoch 2 - avg_train_loss: 0.3974  avg_val_loss: 0.3926  time: 172s\n",
      "Epoch 2 - Accuracy: 0.8724137931034482\n",
      "Epoch 2 - Save Best Score: 0.8724 Model\n"
     ]
    },
    {
     "name": "stdout",
     "output_type": "stream",
     "text": [
      "EVAL: [57/58] Data 0.000 (0.231) Elapsed 0m 22s (remain 0m 0s) Loss: 0.3863(0.3926) \n",
      "YES\n"
     ]
    },
    {
     "name": "stderr",
     "output_type": "stream",
     "text": [
      "  0%|          | 1/232 [00:02<10:00,  2.60s/it]"
     ]
    },
    {
     "name": "stdout",
     "output_type": "stream",
     "text": [
      "Epoch: [3][0/232] Data 1.726 (1.726) Elapsed 0m 2s (remain 10m 33s) Loss: 0.3249(0.3249) Grad: 1.1223  \n"
     ]
    },
    {
     "name": "stderr",
     "output_type": "stream",
     "text": [
      "100%|██████████| 232/232 [02:27<00:00,  1.57it/s]"
     ]
    },
    {
     "name": "stdout",
     "output_type": "stream",
     "text": [
      "Epoch: [3][231/232] Data 0.001 (0.010) Elapsed 2m 27s (remain 0m 0s) Loss: 0.5327(0.2881) Grad: 5.6453  \n"
     ]
    },
    {
     "name": "stderr",
     "output_type": "stream",
     "text": [
      "\n"
     ]
    },
    {
     "name": "stdout",
     "output_type": "stream",
     "text": [
      "EVAL: [0/58] Data 1.727 (1.727) Elapsed 0m 1s (remain 1m 52s) Loss: 0.2222(0.2222) \n"
     ]
    },
    {
     "name": "stderr",
     "output_type": "stream",
     "text": [
      "Epoch 3 - avg_train_loss: 0.2881  avg_val_loss: 0.3948  time: 170s\n",
      "Epoch 3 - Accuracy: 0.8810344827586207\n",
      "Epoch 3 - Save Best Score: 0.8810 Model\n"
     ]
    },
    {
     "name": "stdout",
     "output_type": "stream",
     "text": [
      "EVAL: [57/58] Data 0.000 (0.221) Elapsed 0m 21s (remain 0m 0s) Loss: 0.3451(0.3948) \n",
      "YES\n"
     ]
    },
    {
     "name": "stderr",
     "output_type": "stream",
     "text": [
      "  0%|          | 1/232 [00:03<12:35,  3.27s/it]"
     ]
    },
    {
     "name": "stdout",
     "output_type": "stream",
     "text": [
      "Epoch: [4][0/232] Data 2.068 (2.068) Elapsed 0m 3s (remain 13m 27s) Loss: 0.2223(0.2223) Grad: 1.0160  \n"
     ]
    },
    {
     "name": "stderr",
     "output_type": "stream",
     "text": [
      "100%|██████████| 232/232 [02:29<00:00,  1.55it/s]"
     ]
    },
    {
     "name": "stdout",
     "output_type": "stream",
     "text": [
      "Epoch: [4][231/232] Data 0.001 (0.011) Elapsed 2m 29s (remain 0m 0s) Loss: 0.2014(0.2320) Grad: 0.1059  \n"
     ]
    },
    {
     "name": "stderr",
     "output_type": "stream",
     "text": [
      "\n"
     ]
    },
    {
     "name": "stdout",
     "output_type": "stream",
     "text": [
      "EVAL: [0/58] Data 1.785 (1.785) Elapsed 0m 1s (remain 1m 53s) Loss: 0.2187(0.2187) \n"
     ]
    },
    {
     "name": "stderr",
     "output_type": "stream",
     "text": [
      "Epoch 4 - avg_train_loss: 0.2320  avg_val_loss: 0.4062  time: 172s\n",
      "Epoch 4 - Accuracy: 0.8741379310344828\n"
     ]
    },
    {
     "name": "stdout",
     "output_type": "stream",
     "text": [
      "EVAL: [57/58] Data 0.000 (0.228) Elapsed 0m 22s (remain 0m 0s) Loss: 0.3032(0.4062) \n"
     ]
    },
    {
     "name": "stderr",
     "output_type": "stream",
     "text": [
      "  0%|          | 1/232 [00:03<12:28,  3.24s/it]"
     ]
    },
    {
     "name": "stdout",
     "output_type": "stream",
     "text": [
      "Epoch: [5][0/232] Data 2.429 (2.429) Elapsed 0m 3s (remain 13m 4s) Loss: 0.2041(0.2041) Grad: 0.3005  \n"
     ]
    },
    {
     "name": "stderr",
     "output_type": "stream",
     "text": [
      "100%|██████████| 232/232 [02:28<00:00,  1.56it/s]"
     ]
    },
    {
     "name": "stdout",
     "output_type": "stream",
     "text": [
      "Epoch: [5][231/232] Data 0.001 (0.013) Elapsed 2m 28s (remain 0m 0s) Loss: 0.2006(0.2185) Grad: 0.0951  \n"
     ]
    },
    {
     "name": "stderr",
     "output_type": "stream",
     "text": [
      "\n"
     ]
    },
    {
     "name": "stdout",
     "output_type": "stream",
     "text": [
      "EVAL: [0/58] Data 2.003 (2.003) Elapsed 0m 2s (remain 2m 7s) Loss: 0.2066(0.2066) \n"
     ]
    },
    {
     "name": "stderr",
     "output_type": "stream",
     "text": [
      "Epoch 5 - avg_train_loss: 0.2185  avg_val_loss: 0.4618  time: 172s\n",
      "Epoch 5 - Accuracy: 0.8396551724137931\n"
     ]
    },
    {
     "name": "stdout",
     "output_type": "stream",
     "text": [
      "EVAL: [57/58] Data 0.000 (0.236) Elapsed 0m 23s (remain 0m 0s) Loss: 0.3731(0.4618) \n"
     ]
    },
    {
     "name": "stderr",
     "output_type": "stream",
     "text": [
      "========== fold: 4 result ==========\n",
      "Score: 0.88103\n",
      "========== CV ==========\n",
      "Score: 0.86793\n"
     ]
    }
   ],
   "source": [
    "if __name__ == '__main__':\n",
    "    main()"
   ]
  },
  {
   "cell_type": "code",
   "execution_count": null,
   "metadata": {
    "papermill": {
     "duration": 2.187296,
     "end_time": "2022-05-06T17:53:56.744660",
     "exception": false,
     "start_time": "2022-05-06T17:53:54.557364",
     "status": "completed"
    },
    "tags": []
   },
   "outputs": [],
   "source": []
  }
 ],
 "metadata": {
  "kernelspec": {
   "display_name": "Python 3",
   "language": "python",
   "name": "python3"
  },
  "language_info": {
   "codemirror_mode": {
    "name": "ipython",
    "version": 3
   },
   "file_extension": ".py",
   "mimetype": "text/x-python",
   "name": "python",
   "nbconvert_exporter": "python",
   "pygments_lexer": "ipython3",
   "version": "3.7.6"
  },
  "papermill": {
   "duration": 4705.368352,
   "end_time": "2022-05-06T17:53:59.224248",
   "environment_variables": {},
   "exception": null,
   "input_path": "__notebook__.ipynb",
   "output_path": "__notebook__.ipynb",
   "parameters": {},
   "start_time": "2022-05-06T16:35:33.855896",
   "version": "2.1.0"
  }
 },
 "nbformat": 4,
 "nbformat_minor": 4
}
